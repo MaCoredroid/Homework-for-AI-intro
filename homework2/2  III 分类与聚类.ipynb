{
 "cells": [
  {
   "cell_type": "markdown",
   "metadata": {},
   "source": [
    "# <center>分类与聚类</center>"
   ]
  },
  {
   "cell_type": "markdown",
   "metadata": {},
   "source": [
    "<div class=\"alert alert-block alert-info\" style=\"margin-top: 20px\">\n",
    "<h2>目录</h2>  \n",
    "<font size = 3>\n",
    "1. <a href=\"#ref0\">将菜谱数据导入Python</a>  \n",
    "2. <a href=\"#ref1\">了解数据 & 数据准备</a>  \n",
    "3. <a href=\"#ref2\">哪几种烹饪方法是最相似的? (k-means聚类)</a>  \n",
    "4. <a href=\"#ref3\">我们能否根据食材来预测烹饪? (决策树)</a>  \n",
    "5. <a href=\"#ref4\">模型评估</a>  \n",
    " \n",
    "</font>\n",
    "<br>\n",
    "<p></p>\n",
    "</div>"
   ]
  },
  {
   "cell_type": "markdown",
   "metadata": {},
   "source": [
    "# <center> 1. 将菜谱数据导入Python</center>"
   ]
  },
  {
   "cell_type": "markdown",
   "metadata": {},
   "source": [
    "#### 轮到你了:\n",
    "\n",
    "将数据导入python:\n",
    "\n",
    "> `recipes = pd.read_csv('recipes.csv')`"
   ]
  },
  {
   "cell_type": "code",
   "execution_count": 3,
   "metadata": {
    "collapsed": false
   },
   "outputs": [
    {
     "name": "stdout",
     "output_type": "stream",
     "text": [
      "Done\n"
     ]
    }
   ],
   "source": [
    "import pandas as pd\n",
    "import matplotlib.pyplot as plt\n",
    "import numpy as np\n",
    "import io\n",
    "from scipy import misc\n",
    "from pylab import rcParams\n",
    "%matplotlib inline\n",
    "plt.style.use('ggplot')\n",
    "#linux !wget  -O recipes.csv https://ibm.box.com/shared/static/5wah9atr5o1akuuavl2z9tkjzdinr1lv.csv \n",
    "recipes = pd.read_csv('resources/data/recipes.csv')\n",
    "print (\"Done\")"
   ]
  },
  {
   "cell_type": "markdown",
   "metadata": {},
   "source": [
    "<hr><a id=\"ref1\"></a>"
   ]
  },
  {
   "cell_type": "markdown",
   "metadata": {},
   "source": [
    "<h1 align = center> 2. 了解数据 & 数据准备 </h1>\n",
    "<br>\n",
    "<br>\n",
    "<img src = https://ibm.box.com/shared/static/ctv4qau0q7ny0af4jp8mwi50l8fehmsz. width = 600>"
   ]
  },
  {
   "cell_type": "markdown",
   "metadata": {},
   "source": [
    "### 显示前几行"
   ]
  },
  {
   "cell_type": "code",
   "execution_count": 2,
   "metadata": {
    "collapsed": false
   },
   "outputs": [
    {
     "data": {
      "text/html": [
       "<div>\n",
       "<style scoped>\n",
       "    .dataframe tbody tr th:only-of-type {\n",
       "        vertical-align: middle;\n",
       "    }\n",
       "\n",
       "    .dataframe tbody tr th {\n",
       "        vertical-align: top;\n",
       "    }\n",
       "\n",
       "    .dataframe thead th {\n",
       "        text-align: right;\n",
       "    }\n",
       "</style>\n",
       "<table border=\"1\" class=\"dataframe\">\n",
       "  <thead>\n",
       "    <tr style=\"text-align: right;\">\n",
       "      <th></th>\n",
       "      <th>country</th>\n",
       "      <th>almond</th>\n",
       "      <th>angelica</th>\n",
       "      <th>anise</th>\n",
       "      <th>anise_seed</th>\n",
       "      <th>apple</th>\n",
       "      <th>apple_brandy</th>\n",
       "      <th>apricot</th>\n",
       "      <th>armagnac</th>\n",
       "      <th>artemisia</th>\n",
       "      <th>...</th>\n",
       "      <th>whiskey</th>\n",
       "      <th>white_bread</th>\n",
       "      <th>white_wine</th>\n",
       "      <th>whole_grain_wheat_flour</th>\n",
       "      <th>wine</th>\n",
       "      <th>wood</th>\n",
       "      <th>yam</th>\n",
       "      <th>yeast</th>\n",
       "      <th>yogurt</th>\n",
       "      <th>zucchini</th>\n",
       "    </tr>\n",
       "  </thead>\n",
       "  <tbody>\n",
       "    <tr>\n",
       "      <th>0</th>\n",
       "      <td>Vietnamese</td>\n",
       "      <td>No</td>\n",
       "      <td>No</td>\n",
       "      <td>No</td>\n",
       "      <td>No</td>\n",
       "      <td>No</td>\n",
       "      <td>No</td>\n",
       "      <td>No</td>\n",
       "      <td>No</td>\n",
       "      <td>No</td>\n",
       "      <td>...</td>\n",
       "      <td>No</td>\n",
       "      <td>No</td>\n",
       "      <td>No</td>\n",
       "      <td>No</td>\n",
       "      <td>No</td>\n",
       "      <td>No</td>\n",
       "      <td>No</td>\n",
       "      <td>No</td>\n",
       "      <td>No</td>\n",
       "      <td>No</td>\n",
       "    </tr>\n",
       "    <tr>\n",
       "      <th>1</th>\n",
       "      <td>Vietnamese</td>\n",
       "      <td>No</td>\n",
       "      <td>No</td>\n",
       "      <td>No</td>\n",
       "      <td>No</td>\n",
       "      <td>No</td>\n",
       "      <td>No</td>\n",
       "      <td>No</td>\n",
       "      <td>No</td>\n",
       "      <td>No</td>\n",
       "      <td>...</td>\n",
       "      <td>No</td>\n",
       "      <td>No</td>\n",
       "      <td>No</td>\n",
       "      <td>No</td>\n",
       "      <td>No</td>\n",
       "      <td>No</td>\n",
       "      <td>No</td>\n",
       "      <td>No</td>\n",
       "      <td>No</td>\n",
       "      <td>No</td>\n",
       "    </tr>\n",
       "    <tr>\n",
       "      <th>2</th>\n",
       "      <td>Vietnamese</td>\n",
       "      <td>No</td>\n",
       "      <td>No</td>\n",
       "      <td>No</td>\n",
       "      <td>No</td>\n",
       "      <td>No</td>\n",
       "      <td>No</td>\n",
       "      <td>No</td>\n",
       "      <td>No</td>\n",
       "      <td>No</td>\n",
       "      <td>...</td>\n",
       "      <td>No</td>\n",
       "      <td>No</td>\n",
       "      <td>No</td>\n",
       "      <td>No</td>\n",
       "      <td>No</td>\n",
       "      <td>No</td>\n",
       "      <td>No</td>\n",
       "      <td>No</td>\n",
       "      <td>No</td>\n",
       "      <td>No</td>\n",
       "    </tr>\n",
       "    <tr>\n",
       "      <th>3</th>\n",
       "      <td>Vietnamese</td>\n",
       "      <td>No</td>\n",
       "      <td>No</td>\n",
       "      <td>No</td>\n",
       "      <td>No</td>\n",
       "      <td>No</td>\n",
       "      <td>No</td>\n",
       "      <td>No</td>\n",
       "      <td>No</td>\n",
       "      <td>No</td>\n",
       "      <td>...</td>\n",
       "      <td>No</td>\n",
       "      <td>No</td>\n",
       "      <td>No</td>\n",
       "      <td>No</td>\n",
       "      <td>No</td>\n",
       "      <td>No</td>\n",
       "      <td>No</td>\n",
       "      <td>No</td>\n",
       "      <td>No</td>\n",
       "      <td>No</td>\n",
       "    </tr>\n",
       "    <tr>\n",
       "      <th>4</th>\n",
       "      <td>Vietnamese</td>\n",
       "      <td>No</td>\n",
       "      <td>No</td>\n",
       "      <td>No</td>\n",
       "      <td>No</td>\n",
       "      <td>No</td>\n",
       "      <td>No</td>\n",
       "      <td>No</td>\n",
       "      <td>No</td>\n",
       "      <td>No</td>\n",
       "      <td>...</td>\n",
       "      <td>No</td>\n",
       "      <td>No</td>\n",
       "      <td>No</td>\n",
       "      <td>No</td>\n",
       "      <td>No</td>\n",
       "      <td>No</td>\n",
       "      <td>No</td>\n",
       "      <td>No</td>\n",
       "      <td>No</td>\n",
       "      <td>No</td>\n",
       "    </tr>\n",
       "  </tbody>\n",
       "</table>\n",
       "<p>5 rows × 384 columns</p>\n",
       "</div>"
      ],
      "text/plain": [
       "      country almond angelica anise anise_seed apple apple_brandy apricot  \\\n",
       "0  Vietnamese     No       No    No         No    No           No      No   \n",
       "1  Vietnamese     No       No    No         No    No           No      No   \n",
       "2  Vietnamese     No       No    No         No    No           No      No   \n",
       "3  Vietnamese     No       No    No         No    No           No      No   \n",
       "4  Vietnamese     No       No    No         No    No           No      No   \n",
       "\n",
       "  armagnac artemisia   ...    whiskey white_bread white_wine  \\\n",
       "0       No        No   ...         No          No         No   \n",
       "1       No        No   ...         No          No         No   \n",
       "2       No        No   ...         No          No         No   \n",
       "3       No        No   ...         No          No         No   \n",
       "4       No        No   ...         No          No         No   \n",
       "\n",
       "  whole_grain_wheat_flour wine wood yam yeast yogurt zucchini  \n",
       "0                      No   No   No  No    No     No       No  \n",
       "1                      No   No   No  No    No     No       No  \n",
       "2                      No   No   No  No    No     No       No  \n",
       "3                      No   No   No  No    No     No       No  \n",
       "4                      No   No   No  No    No     No       No  \n",
       "\n",
       "[5 rows x 384 columns]"
      ]
     },
     "execution_count": 2,
     "metadata": {},
     "output_type": "execute_result"
    }
   ],
   "source": [
    "recipes.head()"
   ]
  },
  {
   "cell_type": "code",
   "execution_count": 3,
   "metadata": {
    "collapsed": false
   },
   "outputs": [
    {
     "data": {
      "text/html": [
       "<div>\n",
       "<style scoped>\n",
       "    .dataframe tbody tr th:only-of-type {\n",
       "        vertical-align: middle;\n",
       "    }\n",
       "\n",
       "    .dataframe tbody tr th {\n",
       "        vertical-align: top;\n",
       "    }\n",
       "\n",
       "    .dataframe thead th {\n",
       "        text-align: right;\n",
       "    }\n",
       "</style>\n",
       "<table border=\"1\" class=\"dataframe\">\n",
       "  <thead>\n",
       "    <tr style=\"text-align: right;\">\n",
       "      <th></th>\n",
       "      <th>country</th>\n",
       "      <th>almond</th>\n",
       "      <th>angelica</th>\n",
       "      <th>anise</th>\n",
       "      <th>anise_seed</th>\n",
       "      <th>apple</th>\n",
       "      <th>apple_brandy</th>\n",
       "      <th>apricot</th>\n",
       "      <th>armagnac</th>\n",
       "      <th>artemisia</th>\n",
       "      <th>...</th>\n",
       "      <th>whiskey</th>\n",
       "      <th>white_bread</th>\n",
       "      <th>white_wine</th>\n",
       "      <th>whole_grain_wheat_flour</th>\n",
       "      <th>wine</th>\n",
       "      <th>wood</th>\n",
       "      <th>yam</th>\n",
       "      <th>yeast</th>\n",
       "      <th>yogurt</th>\n",
       "      <th>zucchini</th>\n",
       "    </tr>\n",
       "  </thead>\n",
       "  <tbody>\n",
       "    <tr>\n",
       "      <th>12643</th>\n",
       "      <td>Asian</td>\n",
       "      <td>No</td>\n",
       "      <td>No</td>\n",
       "      <td>No</td>\n",
       "      <td>No</td>\n",
       "      <td>No</td>\n",
       "      <td>No</td>\n",
       "      <td>No</td>\n",
       "      <td>No</td>\n",
       "      <td>No</td>\n",
       "      <td>...</td>\n",
       "      <td>No</td>\n",
       "      <td>No</td>\n",
       "      <td>No</td>\n",
       "      <td>No</td>\n",
       "      <td>No</td>\n",
       "      <td>No</td>\n",
       "      <td>No</td>\n",
       "      <td>No</td>\n",
       "      <td>No</td>\n",
       "      <td>No</td>\n",
       "    </tr>\n",
       "    <tr>\n",
       "      <th>26642</th>\n",
       "      <td>American</td>\n",
       "      <td>No</td>\n",
       "      <td>No</td>\n",
       "      <td>No</td>\n",
       "      <td>No</td>\n",
       "      <td>No</td>\n",
       "      <td>No</td>\n",
       "      <td>No</td>\n",
       "      <td>No</td>\n",
       "      <td>No</td>\n",
       "      <td>...</td>\n",
       "      <td>No</td>\n",
       "      <td>No</td>\n",
       "      <td>No</td>\n",
       "      <td>No</td>\n",
       "      <td>No</td>\n",
       "      <td>No</td>\n",
       "      <td>No</td>\n",
       "      <td>No</td>\n",
       "      <td>No</td>\n",
       "      <td>No</td>\n",
       "    </tr>\n",
       "  </tbody>\n",
       "</table>\n",
       "<p>2 rows × 384 columns</p>\n",
       "</div>"
      ],
      "text/plain": [
       "        country almond angelica anise anise_seed apple apple_brandy apricot  \\\n",
       "12643     Asian     No       No    No         No    No           No      No   \n",
       "26642  American     No       No    No         No    No           No      No   \n",
       "\n",
       "      armagnac artemisia   ...    whiskey white_bread white_wine  \\\n",
       "12643       No        No   ...         No          No         No   \n",
       "26642       No        No   ...         No          No         No   \n",
       "\n",
       "      whole_grain_wheat_flour wine wood yam yeast yogurt zucchini  \n",
       "12643                      No   No   No  No    No     No       No  \n",
       "26642                      No   No   No  No    No     No       No  \n",
       "\n",
       "[2 rows x 384 columns]"
      ]
     },
     "execution_count": 3,
     "metadata": {},
     "output_type": "execute_result"
    }
   ],
   "source": [
    "recipes[recipes['jasmine_tea']=='Yes']"
   ]
  },
  {
   "cell_type": "markdown",
   "metadata": {},
   "source": [
    "#### 总共有多少列，多少行?\n",
    "(rows, columns)"
   ]
  },
  {
   "cell_type": "code",
   "execution_count": 4,
   "metadata": {
    "collapsed": false
   },
   "outputs": [
    {
     "data": {
      "text/plain": [
       "(57691, 384)"
      ]
     },
     "execution_count": 4,
     "metadata": {},
     "output_type": "execute_result"
    }
   ],
   "source": [
    "recipes.shape"
   ]
  },
  {
   "cell_type": "code",
   "execution_count": 5,
   "metadata": {
    "collapsed": false
   },
   "outputs": [
    {
     "data": {
      "text/plain": [
       "Index(['country', 'almond', 'angelica', 'anise', 'anise_seed', 'apple',\n",
       "       'apple_brandy', 'apricot', 'armagnac', 'artemisia',\n",
       "       ...\n",
       "       'whiskey', 'white_bread', 'white_wine', 'whole_grain_wheat_flour',\n",
       "       'wine', 'wood', 'yam', 'yeast', 'yogurt', 'zucchini'],\n",
       "      dtype='object', length=384)"
      ]
     },
     "execution_count": 5,
     "metadata": {},
     "output_type": "execute_result"
    }
   ],
   "source": [
    "recipes.columns"
   ]
  },
  {
   "cell_type": "markdown",
   "metadata": {},
   "source": [
    "<br>\n",
    "#### 哪个国家菜谱数量最多?\n",
    "首先我们还是先要看下数据是否需要清洗。"
   ]
  },
  {
   "cell_type": "code",
   "execution_count": 4,
   "metadata": {
    "collapsed": false
   },
   "outputs": [
    {
     "data": {
      "text/plain": [
       "American                   40150\n",
       "Mexico                      1754\n",
       "Italian                     1715\n",
       "Italy                       1461\n",
       "Asian                       1176\n",
       "French                       996\n",
       "east_asian                   951\n",
       "Canada                       774\n",
       "korean                       767\n",
       "Mexican                      622\n",
       "western                      450\n",
       "Southern_SoulFood            346\n",
       "India                        324\n",
       "Jewish                       320\n",
       "Spanish_Portuguese           291\n",
       "Mediterranean                289\n",
       "UK-and-Ireland               282\n",
       "Indian                       274\n",
       "France                       268\n",
       "MiddleEastern                248\n",
       "Central_SouthAmerican        241\n",
       "Germany                      237\n",
       "Eastern-Europe               235\n",
       "Chinese                      226\n",
       "Greek                        225\n",
       "English_Scottish             204\n",
       "Caribbean                    183\n",
       "Thai                         164\n",
       "Scandinavia                  158\n",
       "EasternEuropean_Russian      146\n",
       "                           ...  \n",
       "Scandinavian                  92\n",
       "chinese                       86\n",
       "Irish                         86\n",
       "Japan                         85\n",
       "Spain                         75\n",
       "italian                       74\n",
       "Vietnamese                    65\n",
       "North-African                 60\n",
       "German                        52\n",
       "Portugal                      50\n",
       "Philippines                   43\n",
       "Netherlands                   32\n",
       "Korea                         32\n",
       "Lebanon                       31\n",
       "Vietnam                       30\n",
       "Austria                       21\n",
       "Iran                          21\n",
       "Switzerland                   20\n",
       "Pakistan                      19\n",
       "Malaysia                      18\n",
       "asian                         17\n",
       "South-African                 16\n",
       "Turkey                        16\n",
       "mexico                        14\n",
       "West-African                  13\n",
       "Indonesia                     12\n",
       "Belgium                       11\n",
       "East-African                  11\n",
       "Israel                         9\n",
       "Bangladesh                     4\n",
       "Name: country, Length: 69, dtype: int64"
      ]
     },
     "execution_count": 4,
     "metadata": {},
     "output_type": "execute_result"
    }
   ],
   "source": [
    "#frequency table\n",
    "recipes['country'].value_counts()"
   ]
  },
  {
   "cell_type": "markdown",
   "metadata": {},
   "source": [
    "### 问题: 国家名不一致 (大小写与别名)\n",
    "\n",
    "**目标:**\n",
    "- 把所有名字变成小写\n",
    "- 使国家名一致"
   ]
  },
  {
   "cell_type": "markdown",
   "metadata": {},
   "source": [
    "把所有名字变成小写:"
   ]
  },
  {
   "cell_type": "code",
   "execution_count": 4,
   "metadata": {
    "collapsed": false
   },
   "outputs": [],
   "source": [
    "recipes['country'] = recipes['country'].str.lower()"
   ]
  },
  {
   "cell_type": "markdown",
   "metadata": {},
   "source": [
    "使国家名一致:"
   ]
  },
  {
   "cell_type": "code",
   "execution_count": 5,
   "metadata": {
    "collapsed": false
   },
   "outputs": [],
   "source": [
    "recipes.replace(to_replace = \"china\", value = \"chinese\", inplace=True)\n",
    "recipes.replace(to_replace = \"france\", value = \"french\", inplace=True)\n",
    "recipes.replace(to_replace = \"germany\", value = \"german\", inplace=True)\n",
    "recipes.replace(to_replace = \"india\", value = \"indian\", inplace=True)\n",
    "recipes.replace(to_replace = \"israel\", value = \"jewish\", inplace=True)\n",
    "recipes.replace(to_replace = \"italy\", value = \"italian\", inplace=True)\n",
    "recipes.replace(to_replace = \"japan\", value = \"japanese\", inplace=True)\n",
    "recipes.replace(to_replace = \"korea\", value = \"korean\", inplace=True)\n",
    "recipes.replace(to_replace = \"mexico\", value = \"mexican\", inplace=True)\n",
    "recipes.replace(to_replace = \"scandinavia\", value = \"scandinavian\", inplace=True)\n",
    "recipes.replace(to_replace = \"thailand\", value = \"thai\", inplace=True)\n",
    "recipes.replace(to_replace = \"vietnam\", value = \"vietnamese\", inplace=True)"
   ]
  },
  {
   "cell_type": "markdown",
   "metadata": {},
   "source": [
    "重新观察数据:"
   ]
  },
  {
   "cell_type": "code",
   "execution_count": 6,
   "metadata": {
    "collapsed": false
   },
   "outputs": [
    {
     "data": {
      "text/plain": [
       "american                   40150\n",
       "italian                     3250\n",
       "mexican                     2390\n",
       "french                      1264\n",
       "asian                       1193\n",
       "east_asian                   951\n",
       "korean                       799\n",
       "canada                       774\n",
       "indian                       598\n",
       "western                      450\n",
       "chinese                      442\n",
       "southern_soulfood            346\n",
       "jewish                       329\n",
       "japanese                     320\n",
       "spanish_portuguese           291\n",
       "german                       289\n",
       "thai                         289\n",
       "mediterranean                289\n",
       "uk-and-ireland               282\n",
       "scandinavian                 250\n",
       "middleeastern                248\n",
       "central_southamerican        241\n",
       "eastern-europe               235\n",
       "greek                        225\n",
       "english_scottish             204\n",
       "caribbean                    183\n",
       "easterneuropean_russian      146\n",
       "cajun_creole                 146\n",
       "moroccan                     137\n",
       "african                      115\n",
       "southwestern                 108\n",
       "south-america                103\n",
       "vietnamese                    95\n",
       "irish                         86\n",
       "spain                         75\n",
       "north-african                 60\n",
       "portugal                      50\n",
       "philippines                   43\n",
       "netherlands                   32\n",
       "lebanon                       31\n",
       "austria                       21\n",
       "iran                          21\n",
       "switzerland                   20\n",
       "pakistan                      19\n",
       "malaysia                      18\n",
       "turkey                        16\n",
       "south-african                 16\n",
       "west-african                  13\n",
       "indonesia                     12\n",
       "belgium                       11\n",
       "east-african                  11\n",
       "bangladesh                     4\n",
       "Name: country, dtype: int64"
      ]
     },
     "execution_count": 6,
     "metadata": {},
     "output_type": "execute_result"
    }
   ],
   "source": [
    "#frequency table\n",
    "recipes['country'].value_counts()"
   ]
  },
  {
   "cell_type": "markdown",
   "metadata": {},
   "source": [
    "### 问题: 某些国家的菜谱极少\n",
    "删除这些菜谱数量少于50的国家。"
   ]
  },
  {
   "cell_type": "code",
   "execution_count": 6,
   "metadata": {
    "collapsed": false
   },
   "outputs": [
    {
     "name": "stdout",
     "output_type": "stream",
     "text": [
      "338 rows removed.\n"
     ]
    },
    {
     "data": {
      "text/plain": [
       "american                   40150\n",
       "italian                     3250\n",
       "mexican                     2390\n",
       "french                      1264\n",
       "asian                       1193\n",
       "east_asian                   951\n",
       "korean                       799\n",
       "canada                       774\n",
       "indian                       598\n",
       "western                      450\n",
       "chinese                      442\n",
       "southern_soulfood            346\n",
       "jewish                       329\n",
       "japanese                     320\n",
       "spanish_portuguese           291\n",
       "german                       289\n",
       "thai                         289\n",
       "mediterranean                289\n",
       "uk-and-ireland               282\n",
       "scandinavian                 250\n",
       "middleeastern                248\n",
       "central_southamerican        241\n",
       "eastern-europe               235\n",
       "greek                        225\n",
       "english_scottish             204\n",
       "caribbean                    183\n",
       "cajun_creole                 146\n",
       "easterneuropean_russian      146\n",
       "moroccan                     137\n",
       "african                      115\n",
       "southwestern                 108\n",
       "south-america                103\n",
       "vietnamese                    95\n",
       "irish                         86\n",
       "spain                         75\n",
       "north-african                 60\n",
       "Name: country, dtype: int64"
      ]
     },
     "execution_count": 6,
     "metadata": {},
     "output_type": "execute_result"
    }
   ],
   "source": [
    "before =recipes.shape[0] #number of rows of original df\n",
    "HighReceipesCountries=recipes['country'].value_counts()>50\n",
    "recipes = (recipes[\n",
    "        recipes['country'].isin(\n",
    "            HighReceipesCountries[HighReceipesCountries].index.tolist()\n",
    "        )\n",
    "    ])\n",
    "after=recipes.shape[0];\n",
    "#python2 print before - after, \"rows removed.\"\n",
    "\n",
    "print (before - after, \"rows removed.\")\n",
    "recipes['country'].value_counts()"
   ]
  },
  {
   "cell_type": "code",
   "execution_count": 11,
   "metadata": {
    "collapsed": false
   },
   "outputs": [
    {
     "data": {
      "text/plain": [
       "array([ True,  True,  True,  True,  True,  True,  True,  True,  True,\n",
       "        True,  True,  True,  True,  True,  True,  True,  True,  True,\n",
       "        True,  True,  True,  True,  True,  True,  True,  True,  True,\n",
       "        True,  True,  True,  True,  True,  True,  True,  True,  True,\n",
       "       False, False, False, False, False, False, False, False, False,\n",
       "       False, False, False, False, False, False, False], dtype=bool)"
      ]
     },
     "execution_count": 11,
     "metadata": {},
     "output_type": "execute_result"
    }
   ],
   "source": [
    "HighReceipesCountries.values"
   ]
  },
  {
   "cell_type": "markdown",
   "metadata": {},
   "source": [
    "### 问题: 如果有一种食物含有大米（rice）、酱油（soy_sauce）、芥末（wasabi）和海藻（seaweed），我们能不能说它就是日本的食物？ "
   ]
  },
  {
   "cell_type": "code",
   "execution_count": 8,
   "metadata": {
    "collapsed": false
   },
   "outputs": [
    {
     "data": {
      "text/html": [
       "<div>\n",
       "<style scoped>\n",
       "    .dataframe tbody tr th:only-of-type {\n",
       "        vertical-align: middle;\n",
       "    }\n",
       "\n",
       "    .dataframe tbody tr th {\n",
       "        vertical-align: top;\n",
       "    }\n",
       "\n",
       "    .dataframe thead th {\n",
       "        text-align: right;\n",
       "    }\n",
       "</style>\n",
       "<table border=\"1\" class=\"dataframe\">\n",
       "  <thead>\n",
       "    <tr style=\"text-align: right;\">\n",
       "      <th></th>\n",
       "      <th>country</th>\n",
       "      <th>almond</th>\n",
       "      <th>angelica</th>\n",
       "      <th>anise</th>\n",
       "      <th>anise_seed</th>\n",
       "      <th>apple</th>\n",
       "      <th>apple_brandy</th>\n",
       "      <th>apricot</th>\n",
       "      <th>armagnac</th>\n",
       "      <th>artemisia</th>\n",
       "      <th>...</th>\n",
       "      <th>whiskey</th>\n",
       "      <th>white_bread</th>\n",
       "      <th>white_wine</th>\n",
       "      <th>whole_grain_wheat_flour</th>\n",
       "      <th>wine</th>\n",
       "      <th>wood</th>\n",
       "      <th>yam</th>\n",
       "      <th>yeast</th>\n",
       "      <th>yogurt</th>\n",
       "      <th>zucchini</th>\n",
       "    </tr>\n",
       "  </thead>\n",
       "  <tbody>\n",
       "    <tr>\n",
       "      <th>11306</th>\n",
       "      <td>japanese</td>\n",
       "      <td>No</td>\n",
       "      <td>No</td>\n",
       "      <td>No</td>\n",
       "      <td>No</td>\n",
       "      <td>No</td>\n",
       "      <td>No</td>\n",
       "      <td>No</td>\n",
       "      <td>No</td>\n",
       "      <td>No</td>\n",
       "      <td>...</td>\n",
       "      <td>No</td>\n",
       "      <td>No</td>\n",
       "      <td>No</td>\n",
       "      <td>No</td>\n",
       "      <td>No</td>\n",
       "      <td>No</td>\n",
       "      <td>No</td>\n",
       "      <td>No</td>\n",
       "      <td>No</td>\n",
       "      <td>No</td>\n",
       "    </tr>\n",
       "    <tr>\n",
       "      <th>11321</th>\n",
       "      <td>japanese</td>\n",
       "      <td>No</td>\n",
       "      <td>No</td>\n",
       "      <td>No</td>\n",
       "      <td>No</td>\n",
       "      <td>No</td>\n",
       "      <td>No</td>\n",
       "      <td>No</td>\n",
       "      <td>No</td>\n",
       "      <td>No</td>\n",
       "      <td>...</td>\n",
       "      <td>No</td>\n",
       "      <td>No</td>\n",
       "      <td>No</td>\n",
       "      <td>No</td>\n",
       "      <td>Yes</td>\n",
       "      <td>No</td>\n",
       "      <td>No</td>\n",
       "      <td>No</td>\n",
       "      <td>No</td>\n",
       "      <td>No</td>\n",
       "    </tr>\n",
       "    <tr>\n",
       "      <th>11361</th>\n",
       "      <td>japanese</td>\n",
       "      <td>No</td>\n",
       "      <td>No</td>\n",
       "      <td>No</td>\n",
       "      <td>No</td>\n",
       "      <td>No</td>\n",
       "      <td>No</td>\n",
       "      <td>No</td>\n",
       "      <td>No</td>\n",
       "      <td>No</td>\n",
       "      <td>...</td>\n",
       "      <td>No</td>\n",
       "      <td>No</td>\n",
       "      <td>No</td>\n",
       "      <td>No</td>\n",
       "      <td>No</td>\n",
       "      <td>No</td>\n",
       "      <td>No</td>\n",
       "      <td>No</td>\n",
       "      <td>No</td>\n",
       "      <td>No</td>\n",
       "    </tr>\n",
       "    <tr>\n",
       "      <th>12171</th>\n",
       "      <td>asian</td>\n",
       "      <td>No</td>\n",
       "      <td>No</td>\n",
       "      <td>No</td>\n",
       "      <td>No</td>\n",
       "      <td>No</td>\n",
       "      <td>No</td>\n",
       "      <td>No</td>\n",
       "      <td>No</td>\n",
       "      <td>No</td>\n",
       "      <td>...</td>\n",
       "      <td>No</td>\n",
       "      <td>No</td>\n",
       "      <td>No</td>\n",
       "      <td>No</td>\n",
       "      <td>Yes</td>\n",
       "      <td>No</td>\n",
       "      <td>No</td>\n",
       "      <td>No</td>\n",
       "      <td>No</td>\n",
       "      <td>No</td>\n",
       "    </tr>\n",
       "    <tr>\n",
       "      <th>12385</th>\n",
       "      <td>asian</td>\n",
       "      <td>No</td>\n",
       "      <td>No</td>\n",
       "      <td>No</td>\n",
       "      <td>No</td>\n",
       "      <td>No</td>\n",
       "      <td>No</td>\n",
       "      <td>No</td>\n",
       "      <td>No</td>\n",
       "      <td>No</td>\n",
       "      <td>...</td>\n",
       "      <td>No</td>\n",
       "      <td>No</td>\n",
       "      <td>No</td>\n",
       "      <td>No</td>\n",
       "      <td>No</td>\n",
       "      <td>No</td>\n",
       "      <td>No</td>\n",
       "      <td>No</td>\n",
       "      <td>No</td>\n",
       "      <td>No</td>\n",
       "    </tr>\n",
       "    <tr>\n",
       "      <th>13010</th>\n",
       "      <td>asian</td>\n",
       "      <td>No</td>\n",
       "      <td>No</td>\n",
       "      <td>No</td>\n",
       "      <td>No</td>\n",
       "      <td>No</td>\n",
       "      <td>No</td>\n",
       "      <td>No</td>\n",
       "      <td>No</td>\n",
       "      <td>No</td>\n",
       "      <td>...</td>\n",
       "      <td>No</td>\n",
       "      <td>No</td>\n",
       "      <td>No</td>\n",
       "      <td>No</td>\n",
       "      <td>No</td>\n",
       "      <td>No</td>\n",
       "      <td>No</td>\n",
       "      <td>No</td>\n",
       "      <td>No</td>\n",
       "      <td>No</td>\n",
       "    </tr>\n",
       "    <tr>\n",
       "      <th>13159</th>\n",
       "      <td>asian</td>\n",
       "      <td>No</td>\n",
       "      <td>No</td>\n",
       "      <td>No</td>\n",
       "      <td>No</td>\n",
       "      <td>No</td>\n",
       "      <td>No</td>\n",
       "      <td>No</td>\n",
       "      <td>No</td>\n",
       "      <td>No</td>\n",
       "      <td>...</td>\n",
       "      <td>No</td>\n",
       "      <td>No</td>\n",
       "      <td>No</td>\n",
       "      <td>No</td>\n",
       "      <td>No</td>\n",
       "      <td>No</td>\n",
       "      <td>No</td>\n",
       "      <td>No</td>\n",
       "      <td>No</td>\n",
       "      <td>No</td>\n",
       "    </tr>\n",
       "    <tr>\n",
       "      <th>13513</th>\n",
       "      <td>japanese</td>\n",
       "      <td>No</td>\n",
       "      <td>No</td>\n",
       "      <td>No</td>\n",
       "      <td>No</td>\n",
       "      <td>No</td>\n",
       "      <td>No</td>\n",
       "      <td>No</td>\n",
       "      <td>No</td>\n",
       "      <td>No</td>\n",
       "      <td>...</td>\n",
       "      <td>No</td>\n",
       "      <td>No</td>\n",
       "      <td>No</td>\n",
       "      <td>No</td>\n",
       "      <td>No</td>\n",
       "      <td>No</td>\n",
       "      <td>No</td>\n",
       "      <td>No</td>\n",
       "      <td>No</td>\n",
       "      <td>No</td>\n",
       "    </tr>\n",
       "    <tr>\n",
       "      <th>13586</th>\n",
       "      <td>japanese</td>\n",
       "      <td>No</td>\n",
       "      <td>No</td>\n",
       "      <td>No</td>\n",
       "      <td>No</td>\n",
       "      <td>No</td>\n",
       "      <td>No</td>\n",
       "      <td>No</td>\n",
       "      <td>No</td>\n",
       "      <td>No</td>\n",
       "      <td>...</td>\n",
       "      <td>No</td>\n",
       "      <td>No</td>\n",
       "      <td>No</td>\n",
       "      <td>No</td>\n",
       "      <td>No</td>\n",
       "      <td>No</td>\n",
       "      <td>No</td>\n",
       "      <td>No</td>\n",
       "      <td>No</td>\n",
       "      <td>No</td>\n",
       "    </tr>\n",
       "    <tr>\n",
       "      <th>13625</th>\n",
       "      <td>east_asian</td>\n",
       "      <td>No</td>\n",
       "      <td>No</td>\n",
       "      <td>No</td>\n",
       "      <td>No</td>\n",
       "      <td>No</td>\n",
       "      <td>No</td>\n",
       "      <td>No</td>\n",
       "      <td>No</td>\n",
       "      <td>No</td>\n",
       "      <td>...</td>\n",
       "      <td>No</td>\n",
       "      <td>No</td>\n",
       "      <td>No</td>\n",
       "      <td>No</td>\n",
       "      <td>No</td>\n",
       "      <td>No</td>\n",
       "      <td>No</td>\n",
       "      <td>No</td>\n",
       "      <td>No</td>\n",
       "      <td>No</td>\n",
       "    </tr>\n",
       "    <tr>\n",
       "      <th>14495</th>\n",
       "      <td>east_asian</td>\n",
       "      <td>No</td>\n",
       "      <td>No</td>\n",
       "      <td>No</td>\n",
       "      <td>No</td>\n",
       "      <td>No</td>\n",
       "      <td>No</td>\n",
       "      <td>No</td>\n",
       "      <td>No</td>\n",
       "      <td>No</td>\n",
       "      <td>...</td>\n",
       "      <td>No</td>\n",
       "      <td>No</td>\n",
       "      <td>No</td>\n",
       "      <td>No</td>\n",
       "      <td>No</td>\n",
       "      <td>No</td>\n",
       "      <td>No</td>\n",
       "      <td>No</td>\n",
       "      <td>No</td>\n",
       "      <td>No</td>\n",
       "    </tr>\n",
       "  </tbody>\n",
       "</table>\n",
       "<p>11 rows × 384 columns</p>\n",
       "</div>"
      ],
      "text/plain": [
       "          country almond angelica anise anise_seed apple apple_brandy apricot  \\\n",
       "11306    japanese     No       No    No         No    No           No      No   \n",
       "11321    japanese     No       No    No         No    No           No      No   \n",
       "11361    japanese     No       No    No         No    No           No      No   \n",
       "12171       asian     No       No    No         No    No           No      No   \n",
       "12385       asian     No       No    No         No    No           No      No   \n",
       "13010       asian     No       No    No         No    No           No      No   \n",
       "13159       asian     No       No    No         No    No           No      No   \n",
       "13513    japanese     No       No    No         No    No           No      No   \n",
       "13586    japanese     No       No    No         No    No           No      No   \n",
       "13625  east_asian     No       No    No         No    No           No      No   \n",
       "14495  east_asian     No       No    No         No    No           No      No   \n",
       "\n",
       "      armagnac artemisia   ...    whiskey white_bread white_wine  \\\n",
       "11306       No        No   ...         No          No         No   \n",
       "11321       No        No   ...         No          No         No   \n",
       "11361       No        No   ...         No          No         No   \n",
       "12171       No        No   ...         No          No         No   \n",
       "12385       No        No   ...         No          No         No   \n",
       "13010       No        No   ...         No          No         No   \n",
       "13159       No        No   ...         No          No         No   \n",
       "13513       No        No   ...         No          No         No   \n",
       "13586       No        No   ...         No          No         No   \n",
       "13625       No        No   ...         No          No         No   \n",
       "14495       No        No   ...         No          No         No   \n",
       "\n",
       "      whole_grain_wheat_flour wine wood yam yeast yogurt zucchini  \n",
       "11306                      No   No   No  No    No     No       No  \n",
       "11321                      No  Yes   No  No    No     No       No  \n",
       "11361                      No   No   No  No    No     No       No  \n",
       "12171                      No  Yes   No  No    No     No       No  \n",
       "12385                      No   No   No  No    No     No       No  \n",
       "13010                      No   No   No  No    No     No       No  \n",
       "13159                      No   No   No  No    No     No       No  \n",
       "13513                      No   No   No  No    No     No       No  \n",
       "13586                      No   No   No  No    No     No       No  \n",
       "13625                      No   No   No  No    No     No       No  \n",
       "14495                      No   No   No  No    No     No       No  \n",
       "\n",
       "[11 rows x 384 columns]"
      ]
     },
     "execution_count": 8,
     "metadata": {},
     "output_type": "execute_result"
    }
   ],
   "source": [
    "recipes[(recipes['rice' ]== \"Yes\" ) &\n",
    "   (recipes['soy_sauce']==\"Yes\") & \n",
    "   (recipes['wasabi']== \"Yes\") &\n",
    "   (recipes['seaweed']==\"Yes\")]"
   ]
  },
  {
   "cell_type": "markdown",
   "metadata": {},
   "source": [
    " <br> \n",
    "### 问题: 哪些食材是最常见的?哪些最不常见?"
   ]
  },
  {
   "cell_type": "markdown",
   "metadata": {},
   "source": [
    "**目的:**\n",
    "- 统计所有菜谱的食材"
   ]
  },
  {
   "cell_type": "code",
   "execution_count": 7,
   "metadata": {
    "collapsed": false,
    "scrolled": false
   },
   "outputs": [
    {
     "data": {
      "text/plain": [
       "egg                 21007\n",
       "wheat               20766\n",
       "butter              20703\n",
       "onion               18057\n",
       "garlic              17332\n",
       "milk                12857\n",
       "vegetable_oil       11098\n",
       "cream               10170\n",
       "tomato               9905\n",
       "olive_oil            9861\n",
       "black_pepper         9818\n",
       "pepper               9221\n",
       "vanilla              9006\n",
       "cayenne              8249\n",
       "vinegar              8054\n",
       "cane_molasses        7740\n",
       "bell_pepper          5962\n",
       "cinnamon             5592\n",
       "parsley              5543\n",
       "chicken              5434\n",
       "lemon_juice          5063\n",
       "beef                 4896\n",
       "corn                 4824\n",
       "cocoa                4798\n",
       "scallion             4782\n",
       "bread                4570\n",
       "ginger               4358\n",
       "mustard              4118\n",
       "rice                 3855\n",
       "basil                3842\n",
       "                    ...  \n",
       "mutton                  3\n",
       "carnation               3\n",
       "holy_basil              3\n",
       "hop                     3\n",
       "jasmine_tea             2\n",
       "sheep_cheese            2\n",
       "long_pepper             2\n",
       "raw_beef                2\n",
       "red_algae               2\n",
       "laurel                  2\n",
       "strawberry_juice        2\n",
       "soybean_oil             2\n",
       "angelica                1\n",
       "emmental_cheese         1\n",
       "sturgeon_caviar         1\n",
       "strawberry_jam          1\n",
       "geranium                1\n",
       "pelargonium             1\n",
       "jamaican_rum            1\n",
       "muscat_grape            1\n",
       "kaffir_lime             1\n",
       "roasted_pecan           1\n",
       "roasted_nut             1\n",
       "roasted_hazelnut        1\n",
       "beech                   1\n",
       "lilac_flower_oil        1\n",
       "mate                    1\n",
       "durian                  0\n",
       "pimenta                 0\n",
       "country                 0\n",
       "Length: 384, dtype: int64"
      ]
     },
     "execution_count": 7,
     "metadata": {},
     "output_type": "execute_result"
    }
   ],
   "source": [
    "CountIngredients=(recipes=='Yes').sum()\n",
    "CountIngredients.sort_values(ascending=False)"
   ]
  },
  {
   "cell_type": "code",
   "execution_count": 14,
   "metadata": {
    "collapsed": false
   },
   "outputs": [
    {
     "data": {
      "text/html": [
       "<div>\n",
       "<table border=\"1\" class=\"dataframe\">\n",
       "  <thead>\n",
       "    <tr style=\"text-align: right;\">\n",
       "      <th></th>\n",
       "      <th>country</th>\n",
       "      <th>almond</th>\n",
       "      <th>angelica</th>\n",
       "      <th>anise</th>\n",
       "      <th>anise_seed</th>\n",
       "      <th>apple</th>\n",
       "      <th>apple_brandy</th>\n",
       "      <th>apricot</th>\n",
       "      <th>armagnac</th>\n",
       "      <th>artemisia</th>\n",
       "      <th>...</th>\n",
       "      <th>whiskey</th>\n",
       "      <th>white_bread</th>\n",
       "      <th>white_wine</th>\n",
       "      <th>whole_grain_wheat_flour</th>\n",
       "      <th>wine</th>\n",
       "      <th>wood</th>\n",
       "      <th>yam</th>\n",
       "      <th>yeast</th>\n",
       "      <th>yogurt</th>\n",
       "      <th>zucchini</th>\n",
       "    </tr>\n",
       "  </thead>\n",
       "  <tbody>\n",
       "    <tr>\n",
       "      <th>0</th>\n",
       "      <td>False</td>\n",
       "      <td>False</td>\n",
       "      <td>False</td>\n",
       "      <td>False</td>\n",
       "      <td>False</td>\n",
       "      <td>False</td>\n",
       "      <td>False</td>\n",
       "      <td>False</td>\n",
       "      <td>False</td>\n",
       "      <td>False</td>\n",
       "      <td>...</td>\n",
       "      <td>False</td>\n",
       "      <td>False</td>\n",
       "      <td>False</td>\n",
       "      <td>False</td>\n",
       "      <td>False</td>\n",
       "      <td>False</td>\n",
       "      <td>False</td>\n",
       "      <td>False</td>\n",
       "      <td>False</td>\n",
       "      <td>False</td>\n",
       "    </tr>\n",
       "    <tr>\n",
       "      <th>1</th>\n",
       "      <td>False</td>\n",
       "      <td>False</td>\n",
       "      <td>False</td>\n",
       "      <td>False</td>\n",
       "      <td>False</td>\n",
       "      <td>False</td>\n",
       "      <td>False</td>\n",
       "      <td>False</td>\n",
       "      <td>False</td>\n",
       "      <td>False</td>\n",
       "      <td>...</td>\n",
       "      <td>False</td>\n",
       "      <td>False</td>\n",
       "      <td>False</td>\n",
       "      <td>False</td>\n",
       "      <td>False</td>\n",
       "      <td>False</td>\n",
       "      <td>False</td>\n",
       "      <td>False</td>\n",
       "      <td>False</td>\n",
       "      <td>False</td>\n",
       "    </tr>\n",
       "    <tr>\n",
       "      <th>2</th>\n",
       "      <td>False</td>\n",
       "      <td>False</td>\n",
       "      <td>False</td>\n",
       "      <td>False</td>\n",
       "      <td>False</td>\n",
       "      <td>False</td>\n",
       "      <td>False</td>\n",
       "      <td>False</td>\n",
       "      <td>False</td>\n",
       "      <td>False</td>\n",
       "      <td>...</td>\n",
       "      <td>False</td>\n",
       "      <td>False</td>\n",
       "      <td>False</td>\n",
       "      <td>False</td>\n",
       "      <td>False</td>\n",
       "      <td>False</td>\n",
       "      <td>False</td>\n",
       "      <td>False</td>\n",
       "      <td>False</td>\n",
       "      <td>False</td>\n",
       "    </tr>\n",
       "    <tr>\n",
       "      <th>3</th>\n",
       "      <td>False</td>\n",
       "      <td>False</td>\n",
       "      <td>False</td>\n",
       "      <td>False</td>\n",
       "      <td>False</td>\n",
       "      <td>False</td>\n",
       "      <td>False</td>\n",
       "      <td>False</td>\n",
       "      <td>False</td>\n",
       "      <td>False</td>\n",
       "      <td>...</td>\n",
       "      <td>False</td>\n",
       "      <td>False</td>\n",
       "      <td>False</td>\n",
       "      <td>False</td>\n",
       "      <td>False</td>\n",
       "      <td>False</td>\n",
       "      <td>False</td>\n",
       "      <td>False</td>\n",
       "      <td>False</td>\n",
       "      <td>False</td>\n",
       "    </tr>\n",
       "    <tr>\n",
       "      <th>4</th>\n",
       "      <td>False</td>\n",
       "      <td>False</td>\n",
       "      <td>False</td>\n",
       "      <td>False</td>\n",
       "      <td>False</td>\n",
       "      <td>False</td>\n",
       "      <td>False</td>\n",
       "      <td>False</td>\n",
       "      <td>False</td>\n",
       "      <td>False</td>\n",
       "      <td>...</td>\n",
       "      <td>False</td>\n",
       "      <td>False</td>\n",
       "      <td>False</td>\n",
       "      <td>False</td>\n",
       "      <td>False</td>\n",
       "      <td>False</td>\n",
       "      <td>False</td>\n",
       "      <td>False</td>\n",
       "      <td>False</td>\n",
       "      <td>False</td>\n",
       "    </tr>\n",
       "  </tbody>\n",
       "</table>\n",
       "<p>5 rows × 384 columns</p>\n",
       "</div>"
      ],
      "text/plain": [
       "  country almond angelica  anise anise_seed  apple apple_brandy apricot  \\\n",
       "0   False  False    False  False      False  False        False   False   \n",
       "1   False  False    False  False      False  False        False   False   \n",
       "2   False  False    False  False      False  False        False   False   \n",
       "3   False  False    False  False      False  False        False   False   \n",
       "4   False  False    False  False      False  False        False   False   \n",
       "\n",
       "  armagnac artemisia   ...    whiskey white_bread white_wine  \\\n",
       "0    False     False   ...      False       False      False   \n",
       "1    False     False   ...      False       False      False   \n",
       "2    False     False   ...      False       False      False   \n",
       "3    False     False   ...      False       False      False   \n",
       "4    False     False   ...      False       False      False   \n",
       "\n",
       "  whole_grain_wheat_flour   wine   wood    yam  yeast yogurt zucchini  \n",
       "0                   False  False  False  False  False  False    False  \n",
       "1                   False  False  False  False  False  False    False  \n",
       "2                   False  False  False  False  False  False    False  \n",
       "3                   False  False  False  False  False  False    False  \n",
       "4                   False  False  False  False  False  False    False  \n",
       "\n",
       "[5 rows x 384 columns]"
      ]
     },
     "execution_count": 14,
     "metadata": {},
     "output_type": "execute_result"
    }
   ],
   "source": [
    "(recipes=='Yes').head()"
   ]
  },
  {
   "cell_type": "code",
   "execution_count": 15,
   "metadata": {
    "collapsed": false
   },
   "outputs": [
    {
     "data": {
      "text/plain": [
       "3"
      ]
     },
     "execution_count": 15,
     "metadata": {},
     "output_type": "execute_result"
    }
   ],
   "source": [
    "np.array([True, True, True]).sum()"
   ]
  },
  {
   "cell_type": "markdown",
   "metadata": {},
   "source": [
    "## 上述问题都是针对所有食谱的，那么每个国家使用食材的情况如何呢？"
   ]
  },
  {
   "cell_type": "markdown",
   "metadata": {},
   "source": [
    "<hr>"
   ]
  },
  {
   "cell_type": "markdown",
   "metadata": {},
   "source": [
    "### 问题: 不同国家的食材分布情况有何不同?\n",
    "\n",
    "每个国家的“概况”是什么??  \n",
    "- 中国人通常用什么食材?  \n",
    "- 到底什么是“加拿大食物”?  \n",
    "\n",
    "**目标:**\n",
    "- 统计每个国家的每种食材数量，然后根据该国家的菜谱数进行归一化\n",
    "    - 在结果数据集中，每个国家占一行，每种食材占一列\n",
    "    - 对于每个国家每种食材，展示含有某种食材的菜谱的占比\n",
    "    - 把结果导出到一个新的数据集\n",
    "    - 找到每个国家最喜欢使用的食材"
   ]
  },
  {
   "cell_type": "code",
   "execution_count": 16,
   "metadata": {
    "collapsed": false
   },
   "outputs": [
    {
     "data": {
      "text/html": [
       "<div>\n",
       "<table border=\"1\" class=\"dataframe\">\n",
       "  <thead>\n",
       "    <tr style=\"text-align: right;\">\n",
       "      <th></th>\n",
       "      <th>country</th>\n",
       "      <th>almond</th>\n",
       "      <th>angelica</th>\n",
       "      <th>anise</th>\n",
       "      <th>anise_seed</th>\n",
       "      <th>apple</th>\n",
       "      <th>apple_brandy</th>\n",
       "      <th>apricot</th>\n",
       "      <th>armagnac</th>\n",
       "      <th>artemisia</th>\n",
       "      <th>...</th>\n",
       "      <th>whiskey</th>\n",
       "      <th>white_bread</th>\n",
       "      <th>white_wine</th>\n",
       "      <th>whole_grain_wheat_flour</th>\n",
       "      <th>wine</th>\n",
       "      <th>wood</th>\n",
       "      <th>yam</th>\n",
       "      <th>yeast</th>\n",
       "      <th>yogurt</th>\n",
       "      <th>zucchini</th>\n",
       "    </tr>\n",
       "  </thead>\n",
       "  <tbody>\n",
       "    <tr>\n",
       "      <th>0</th>\n",
       "      <td>False</td>\n",
       "      <td>False</td>\n",
       "      <td>False</td>\n",
       "      <td>False</td>\n",
       "      <td>False</td>\n",
       "      <td>False</td>\n",
       "      <td>False</td>\n",
       "      <td>False</td>\n",
       "      <td>False</td>\n",
       "      <td>False</td>\n",
       "      <td>...</td>\n",
       "      <td>False</td>\n",
       "      <td>False</td>\n",
       "      <td>False</td>\n",
       "      <td>False</td>\n",
       "      <td>False</td>\n",
       "      <td>False</td>\n",
       "      <td>False</td>\n",
       "      <td>False</td>\n",
       "      <td>False</td>\n",
       "      <td>False</td>\n",
       "    </tr>\n",
       "    <tr>\n",
       "      <th>1</th>\n",
       "      <td>False</td>\n",
       "      <td>False</td>\n",
       "      <td>False</td>\n",
       "      <td>False</td>\n",
       "      <td>False</td>\n",
       "      <td>False</td>\n",
       "      <td>False</td>\n",
       "      <td>False</td>\n",
       "      <td>False</td>\n",
       "      <td>False</td>\n",
       "      <td>...</td>\n",
       "      <td>False</td>\n",
       "      <td>False</td>\n",
       "      <td>False</td>\n",
       "      <td>False</td>\n",
       "      <td>False</td>\n",
       "      <td>False</td>\n",
       "      <td>False</td>\n",
       "      <td>False</td>\n",
       "      <td>False</td>\n",
       "      <td>False</td>\n",
       "    </tr>\n",
       "    <tr>\n",
       "      <th>2</th>\n",
       "      <td>False</td>\n",
       "      <td>False</td>\n",
       "      <td>False</td>\n",
       "      <td>False</td>\n",
       "      <td>False</td>\n",
       "      <td>False</td>\n",
       "      <td>False</td>\n",
       "      <td>False</td>\n",
       "      <td>False</td>\n",
       "      <td>False</td>\n",
       "      <td>...</td>\n",
       "      <td>False</td>\n",
       "      <td>False</td>\n",
       "      <td>False</td>\n",
       "      <td>False</td>\n",
       "      <td>False</td>\n",
       "      <td>False</td>\n",
       "      <td>False</td>\n",
       "      <td>False</td>\n",
       "      <td>False</td>\n",
       "      <td>False</td>\n",
       "    </tr>\n",
       "    <tr>\n",
       "      <th>3</th>\n",
       "      <td>False</td>\n",
       "      <td>False</td>\n",
       "      <td>False</td>\n",
       "      <td>False</td>\n",
       "      <td>False</td>\n",
       "      <td>False</td>\n",
       "      <td>False</td>\n",
       "      <td>False</td>\n",
       "      <td>False</td>\n",
       "      <td>False</td>\n",
       "      <td>...</td>\n",
       "      <td>False</td>\n",
       "      <td>False</td>\n",
       "      <td>False</td>\n",
       "      <td>False</td>\n",
       "      <td>False</td>\n",
       "      <td>False</td>\n",
       "      <td>False</td>\n",
       "      <td>False</td>\n",
       "      <td>False</td>\n",
       "      <td>False</td>\n",
       "    </tr>\n",
       "    <tr>\n",
       "      <th>4</th>\n",
       "      <td>False</td>\n",
       "      <td>False</td>\n",
       "      <td>False</td>\n",
       "      <td>False</td>\n",
       "      <td>False</td>\n",
       "      <td>False</td>\n",
       "      <td>False</td>\n",
       "      <td>False</td>\n",
       "      <td>False</td>\n",
       "      <td>False</td>\n",
       "      <td>...</td>\n",
       "      <td>False</td>\n",
       "      <td>False</td>\n",
       "      <td>False</td>\n",
       "      <td>False</td>\n",
       "      <td>False</td>\n",
       "      <td>False</td>\n",
       "      <td>False</td>\n",
       "      <td>False</td>\n",
       "      <td>False</td>\n",
       "      <td>False</td>\n",
       "    </tr>\n",
       "  </tbody>\n",
       "</table>\n",
       "<p>5 rows × 384 columns</p>\n",
       "</div>"
      ],
      "text/plain": [
       "  country almond angelica  anise anise_seed  apple apple_brandy apricot  \\\n",
       "0   False  False    False  False      False  False        False   False   \n",
       "1   False  False    False  False      False  False        False   False   \n",
       "2   False  False    False  False      False  False        False   False   \n",
       "3   False  False    False  False      False  False        False   False   \n",
       "4   False  False    False  False      False  False        False   False   \n",
       "\n",
       "  armagnac artemisia   ...    whiskey white_bread white_wine  \\\n",
       "0    False     False   ...      False       False      False   \n",
       "1    False     False   ...      False       False      False   \n",
       "2    False     False   ...      False       False      False   \n",
       "3    False     False   ...      False       False      False   \n",
       "4    False     False   ...      False       False      False   \n",
       "\n",
       "  whole_grain_wheat_flour   wine   wood    yam  yeast yogurt zucchini  \n",
       "0                   False  False  False  False  False  False    False  \n",
       "1                   False  False  False  False  False  False    False  \n",
       "2                   False  False  False  False  False  False    False  \n",
       "3                   False  False  False  False  False  False    False  \n",
       "4                   False  False  False  False  False  False    False  \n",
       "\n",
       "[5 rows x 384 columns]"
      ]
     },
     "execution_count": 16,
     "metadata": {},
     "output_type": "execute_result"
    }
   ],
   "source": [
    "(recipes=='Yes').head()"
   ]
  },
  {
   "cell_type": "code",
   "execution_count": 8,
   "metadata": {
    "collapsed": false
   },
   "outputs": [
    {
     "data": {
      "text/html": [
       "<div>\n",
       "<style scoped>\n",
       "    .dataframe tbody tr th:only-of-type {\n",
       "        vertical-align: middle;\n",
       "    }\n",
       "\n",
       "    .dataframe tbody tr th {\n",
       "        vertical-align: top;\n",
       "    }\n",
       "\n",
       "    .dataframe thead th {\n",
       "        text-align: right;\n",
       "    }\n",
       "</style>\n",
       "<table border=\"1\" class=\"dataframe\">\n",
       "  <thead>\n",
       "    <tr style=\"text-align: right;\">\n",
       "      <th></th>\n",
       "      <th>country</th>\n",
       "      <th>almond</th>\n",
       "      <th>angelica</th>\n",
       "      <th>anise</th>\n",
       "      <th>anise_seed</th>\n",
       "      <th>apple</th>\n",
       "      <th>apple_brandy</th>\n",
       "      <th>apricot</th>\n",
       "      <th>armagnac</th>\n",
       "      <th>artemisia</th>\n",
       "      <th>...</th>\n",
       "      <th>whiskey</th>\n",
       "      <th>white_bread</th>\n",
       "      <th>white_wine</th>\n",
       "      <th>whole_grain_wheat_flour</th>\n",
       "      <th>wine</th>\n",
       "      <th>wood</th>\n",
       "      <th>yam</th>\n",
       "      <th>yeast</th>\n",
       "      <th>yogurt</th>\n",
       "      <th>zucchini</th>\n",
       "    </tr>\n",
       "    <tr>\n",
       "      <th>country</th>\n",
       "      <th></th>\n",
       "      <th></th>\n",
       "      <th></th>\n",
       "      <th></th>\n",
       "      <th></th>\n",
       "      <th></th>\n",
       "      <th></th>\n",
       "      <th></th>\n",
       "      <th></th>\n",
       "      <th></th>\n",
       "      <th></th>\n",
       "      <th></th>\n",
       "      <th></th>\n",
       "      <th></th>\n",
       "      <th></th>\n",
       "      <th></th>\n",
       "      <th></th>\n",
       "      <th></th>\n",
       "      <th></th>\n",
       "      <th></th>\n",
       "      <th></th>\n",
       "    </tr>\n",
       "  </thead>\n",
       "  <tbody>\n",
       "    <tr>\n",
       "      <th>african</th>\n",
       "      <td>0.0</td>\n",
       "      <td>0.014754</td>\n",
       "      <td>0.000000</td>\n",
       "      <td>0.000000</td>\n",
       "      <td>0.000000</td>\n",
       "      <td>0.003279</td>\n",
       "      <td>0.000000</td>\n",
       "      <td>0.006557</td>\n",
       "      <td>0.000000</td>\n",
       "      <td>0.0</td>\n",
       "      <td>...</td>\n",
       "      <td>0.000000</td>\n",
       "      <td>0.000820</td>\n",
       "      <td>0.004098</td>\n",
       "      <td>0.000820</td>\n",
       "      <td>0.001639</td>\n",
       "      <td>0.000000</td>\n",
       "      <td>0.000820</td>\n",
       "      <td>0.001639</td>\n",
       "      <td>0.000000</td>\n",
       "      <td>0.003279</td>\n",
       "    </tr>\n",
       "    <tr>\n",
       "      <th>american</th>\n",
       "      <td>0.0</td>\n",
       "      <td>0.005118</td>\n",
       "      <td>0.000003</td>\n",
       "      <td>0.000380</td>\n",
       "      <td>0.000072</td>\n",
       "      <td>0.006562</td>\n",
       "      <td>0.000078</td>\n",
       "      <td>0.001425</td>\n",
       "      <td>0.000013</td>\n",
       "      <td>0.0</td>\n",
       "      <td>...</td>\n",
       "      <td>0.000374</td>\n",
       "      <td>0.000867</td>\n",
       "      <td>0.003884</td>\n",
       "      <td>0.001868</td>\n",
       "      <td>0.001388</td>\n",
       "      <td>0.000085</td>\n",
       "      <td>0.000182</td>\n",
       "      <td>0.008600</td>\n",
       "      <td>0.002132</td>\n",
       "      <td>0.002349</td>\n",
       "    </tr>\n",
       "    <tr>\n",
       "      <th>asian</th>\n",
       "      <td>0.0</td>\n",
       "      <td>0.000760</td>\n",
       "      <td>0.000000</td>\n",
       "      <td>0.000084</td>\n",
       "      <td>0.000253</td>\n",
       "      <td>0.001267</td>\n",
       "      <td>0.000000</td>\n",
       "      <td>0.000507</td>\n",
       "      <td>0.000000</td>\n",
       "      <td>0.0</td>\n",
       "      <td>...</td>\n",
       "      <td>0.000084</td>\n",
       "      <td>0.000169</td>\n",
       "      <td>0.003884</td>\n",
       "      <td>0.000169</td>\n",
       "      <td>0.012581</td>\n",
       "      <td>0.000000</td>\n",
       "      <td>0.000169</td>\n",
       "      <td>0.000422</td>\n",
       "      <td>0.001098</td>\n",
       "      <td>0.001182</td>\n",
       "    </tr>\n",
       "    <tr>\n",
       "      <th>cajun_creole</th>\n",
       "      <td>0.0</td>\n",
       "      <td>0.000000</td>\n",
       "      <td>0.000000</td>\n",
       "      <td>0.000000</td>\n",
       "      <td>0.000000</td>\n",
       "      <td>0.000583</td>\n",
       "      <td>0.000000</td>\n",
       "      <td>0.000000</td>\n",
       "      <td>0.000000</td>\n",
       "      <td>0.0</td>\n",
       "      <td>...</td>\n",
       "      <td>0.000000</td>\n",
       "      <td>0.000583</td>\n",
       "      <td>0.006997</td>\n",
       "      <td>0.000000</td>\n",
       "      <td>0.016327</td>\n",
       "      <td>0.000000</td>\n",
       "      <td>0.000583</td>\n",
       "      <td>0.002915</td>\n",
       "      <td>0.000583</td>\n",
       "      <td>0.000000</td>\n",
       "    </tr>\n",
       "    <tr>\n",
       "      <th>canada</th>\n",
       "      <td>0.0</td>\n",
       "      <td>0.004497</td>\n",
       "      <td>0.000000</td>\n",
       "      <td>0.000000</td>\n",
       "      <td>0.000000</td>\n",
       "      <td>0.004497</td>\n",
       "      <td>0.000000</td>\n",
       "      <td>0.000321</td>\n",
       "      <td>0.000000</td>\n",
       "      <td>0.0</td>\n",
       "      <td>...</td>\n",
       "      <td>0.000321</td>\n",
       "      <td>0.000482</td>\n",
       "      <td>0.003694</td>\n",
       "      <td>0.002570</td>\n",
       "      <td>0.000482</td>\n",
       "      <td>0.000000</td>\n",
       "      <td>0.000161</td>\n",
       "      <td>0.008352</td>\n",
       "      <td>0.002409</td>\n",
       "      <td>0.001446</td>\n",
       "    </tr>\n",
       "  </tbody>\n",
       "</table>\n",
       "<p>5 rows × 384 columns</p>\n",
       "</div>"
      ],
      "text/plain": [
       "              country    almond  angelica     anise  anise_seed     apple  \\\n",
       "country                                                                     \n",
       "african           0.0  0.014754  0.000000  0.000000    0.000000  0.003279   \n",
       "american          0.0  0.005118  0.000003  0.000380    0.000072  0.006562   \n",
       "asian             0.0  0.000760  0.000000  0.000084    0.000253  0.001267   \n",
       "cajun_creole      0.0  0.000000  0.000000  0.000000    0.000000  0.000583   \n",
       "canada            0.0  0.004497  0.000000  0.000000    0.000000  0.004497   \n",
       "\n",
       "              apple_brandy   apricot  armagnac  artemisia    ...      whiskey  \\\n",
       "country                                                      ...                \n",
       "african           0.000000  0.006557  0.000000        0.0    ...     0.000000   \n",
       "american          0.000078  0.001425  0.000013        0.0    ...     0.000374   \n",
       "asian             0.000000  0.000507  0.000000        0.0    ...     0.000084   \n",
       "cajun_creole      0.000000  0.000000  0.000000        0.0    ...     0.000000   \n",
       "canada            0.000000  0.000321  0.000000        0.0    ...     0.000321   \n",
       "\n",
       "              white_bread  white_wine  whole_grain_wheat_flour      wine  \\\n",
       "country                                                                    \n",
       "african          0.000820    0.004098                 0.000820  0.001639   \n",
       "american         0.000867    0.003884                 0.001868  0.001388   \n",
       "asian            0.000169    0.003884                 0.000169  0.012581   \n",
       "cajun_creole     0.000583    0.006997                 0.000000  0.016327   \n",
       "canada           0.000482    0.003694                 0.002570  0.000482   \n",
       "\n",
       "                  wood       yam     yeast    yogurt  zucchini  \n",
       "country                                                         \n",
       "african       0.000000  0.000820  0.001639  0.000000  0.003279  \n",
       "american      0.000085  0.000182  0.008600  0.002132  0.002349  \n",
       "asian         0.000000  0.000169  0.000422  0.001098  0.001182  \n",
       "cajun_creole  0.000000  0.000583  0.002915  0.000583  0.000000  \n",
       "canada        0.000000  0.000161  0.008352  0.002409  0.001446  \n",
       "\n",
       "[5 rows x 384 columns]"
      ]
     },
     "execution_count": 8,
     "metadata": {},
     "output_type": "execute_result"
    }
   ],
   "source": [
    "by_country_aggr=(recipes=='Yes').groupby(recipes['country']).sum()\n",
    "by_country_normalized = by_country_aggr.div(by_country_aggr.sum(axis=1), axis=0)\n",
    "by_country_normalized.head()"
   ]
  },
  {
   "cell_type": "markdown",
   "metadata": {
    "collapsed": true
   },
   "source": [
    "### 什么是中国菜?"
   ]
  },
  {
   "cell_type": "code",
   "execution_count": 10,
   "metadata": {
    "collapsed": false
   },
   "outputs": [
    {
     "data": {
      "text/plain": [
       "soy_sauce            0.069005\n",
       "ginger               0.053746\n",
       "garlic               0.053291\n",
       "scallion             0.048508\n",
       "sesame_oil           0.039854\n",
       "vegetable_oil        0.037805\n",
       "starch               0.037349\n",
       "vinegar              0.028695\n",
       "rice                 0.026873\n",
       "cayenne              0.026418\n",
       "pork                 0.025962\n",
       "egg                  0.025507\n",
       "black_pepper         0.023002\n",
       "chicken              0.020952\n",
       "pepper               0.020496\n",
       "onion                0.019130\n",
       "wine                 0.018447\n",
       "wheat                0.017080\n",
       "chicken_broth        0.016397\n",
       "shrimp               0.015031\n",
       "soybean              0.014348\n",
       "shiitake             0.013437\n",
       "bell_pepper          0.012298\n",
       "oyster               0.012070\n",
       "cilantro             0.011615\n",
       "carrot               0.011387\n",
       "mushroom             0.010931\n",
       "bean                 0.010931\n",
       "peanut_oil           0.010704\n",
       "cabbage              0.010476\n",
       "                       ...   \n",
       "orange_flower        0.000000\n",
       "pimento              0.000000\n",
       "pimenta              0.000000\n",
       "peppermint_oil       0.000000\n",
       "peppermint           0.000000\n",
       "pelargonium          0.000000\n",
       "pecan                0.000000\n",
       "pear_brandy          0.000000\n",
       "peach                0.000000\n",
       "passion_fruit        0.000000\n",
       "parsnip              0.000000\n",
       "papaya               0.000000\n",
       "ouzo                 0.000000\n",
       "oregano              0.000000\n",
       "olive                0.000000\n",
       "long_pepper          0.000000\n",
       "okra                 0.000000\n",
       "oat                  0.000000\n",
       "nectarine            0.000000\n",
       "mutton               0.000000\n",
       "muscat_grape         0.000000\n",
       "munster_cheese       0.000000\n",
       "mung_bean            0.000000\n",
       "mozzarella_cheese    0.000000\n",
       "mate                 0.000000\n",
       "marjoram             0.000000\n",
       "mandarin_peel        0.000000\n",
       "macadamia_nut        0.000000\n",
       "lovage               0.000000\n",
       "country              0.000000\n",
       "Name: chinese, Length: 384, dtype: float64"
      ]
     },
     "execution_count": 10,
     "metadata": {},
     "output_type": "execute_result"
    }
   ],
   "source": [
    "by_country_normalized.loc['chinese'].sort_values( ascending=False)\n",
    "#by_country_norm.ix['canada',:].sort_values( ascending=False)\n"
   ]
  },
  {
   "cell_type": "code",
   "execution_count": 11,
   "metadata": {
    "collapsed": false
   },
   "outputs": [
    {
     "data": {
      "text/plain": [
       "array(['african', 'american', 'asian', 'cajun_creole', 'canada',\n",
       "       'caribbean', 'central_southamerican', 'chinese', 'east_asian',\n",
       "       'eastern-europe', 'easterneuropean_russian', 'english_scottish',\n",
       "       'french', 'german', 'greek', 'indian', 'irish', 'italian',\n",
       "       'japanese', 'jewish', 'korean', 'mediterranean', 'mexican',\n",
       "       'middleeastern', 'moroccan', 'north-african', 'scandinavian',\n",
       "       'south-america', 'southern_soulfood', 'southwestern', 'spain',\n",
       "       'spanish_portuguese', 'thai', 'uk-and-ireland', 'vietnamese',\n",
       "       'western'], dtype=object)"
      ]
     },
     "execution_count": 11,
     "metadata": {},
     "output_type": "execute_result"
    }
   ],
   "source": [
    "#Try for different  regions \n",
    "NameofRegion=by_country_normalized.index.get_values()\n",
    "NameofRegion"
   ]
  },
  {
   "cell_type": "markdown",
   "metadata": {},
   "source": [
    "### 问题: 在每个国家，最受欢迎的五种食材是什么呢?\n",
    "\n",
    "**目标:**\n",
    "- 对每个国家，获取最常见的5种食材"
   ]
  },
  {
   "cell_type": "markdown",
   "metadata": {},
   "source": [
    "<br>"
   ]
  },
  {
   "cell_type": "code",
   "execution_count": 20,
   "metadata": {
    "collapsed": false,
    "scrolled": true
   },
   "outputs": [
    {
     "name": "stdout",
     "output_type": "stream",
     "text": [
      "african\n",
      "onion        0.050000\n",
      "olive_oil    0.049180\n",
      "garlic       0.046721\n",
      "cumin        0.040164\n",
      "cayenne      0.033607\n",
      "Name: african, dtype: float64\n",
      "\n",
      "\n",
      "american\n",
      "butter    0.051884\n",
      "egg       0.051071\n",
      "wheat     0.050223\n",
      "onion     0.036977\n",
      "milk      0.033532\n",
      "Name: american, dtype: float64\n",
      "\n",
      "\n",
      "asian\n",
      "soy_sauce    0.049987\n",
      "ginger       0.048974\n",
      "garlic       0.048299\n",
      "rice         0.041628\n",
      "scallion     0.038504\n",
      "Name: asian, dtype: float64\n",
      "\n",
      "\n",
      "cajun_creole\n",
      "onion          0.059475\n",
      "cayenne        0.047813\n",
      "garlic         0.041399\n",
      "butter         0.030904\n",
      "bell_pepper    0.029155\n",
      "Name: cajun_creole, dtype: float64\n",
      "\n",
      "\n",
      "canada\n",
      "wheat     0.049149\n",
      "butter    0.047382\n",
      "egg       0.044009\n",
      "onion     0.042724\n",
      "garlic    0.033569\n",
      "Name: canada, dtype: float64\n",
      "\n",
      "\n",
      "caribbean\n",
      "onion            0.055819\n",
      "garlic           0.055226\n",
      "black_pepper     0.033848\n",
      "vegetable_oil    0.033848\n",
      "tomato           0.032660\n",
      "Name: caribbean, dtype: float64\n",
      "\n",
      "\n",
      "central_southamerican\n",
      "garlic     0.062729\n",
      "onion      0.059982\n",
      "cayenne    0.057234\n",
      "tomato     0.045788\n",
      "corn       0.036172\n",
      "Name: central_southamerican, dtype: float64\n",
      "\n",
      "\n",
      "chinese\n",
      "soy_sauce     0.069005\n",
      "ginger        0.053746\n",
      "garlic        0.053291\n",
      "scallion      0.048508\n",
      "sesame_oil    0.039854\n",
      "Name: chinese, dtype: float64\n",
      "\n",
      "\n",
      "east_asian\n",
      "garlic        0.062211\n",
      "soy_sauce     0.056760\n",
      "scallion      0.055812\n",
      "cayenne       0.053679\n",
      "sesame_oil    0.044200\n",
      "Name: east_asian, dtype: float64\n",
      "\n",
      "\n",
      "eastern-europe\n",
      "wheat     0.066313\n",
      "egg       0.065252\n",
      "butter    0.059947\n",
      "onion     0.056233\n",
      "milk      0.033952\n",
      "Name: eastern-europe, dtype: float64\n",
      "\n",
      "\n",
      "easterneuropean_russian\n",
      "butter    0.067124\n",
      "egg       0.056445\n",
      "wheat     0.054920\n",
      "onion     0.042715\n",
      "cream     0.037376\n",
      "Name: easterneuropean_russian, dtype: float64\n",
      "\n",
      "\n",
      "english_scottish\n",
      "butter    0.082630\n",
      "wheat     0.076598\n",
      "egg       0.065742\n",
      "cream     0.050663\n",
      "milk      0.043426\n",
      "Name: english_scottish, dtype: float64\n",
      "\n",
      "\n",
      "french\n",
      "butter       0.061000\n",
      "egg          0.053773\n",
      "wheat        0.045485\n",
      "olive_oil    0.034018\n",
      "cream        0.033439\n",
      "Name: french, dtype: float64\n",
      "\n",
      "\n",
      "german\n",
      "wheat     0.081198\n",
      "egg       0.075988\n",
      "butter    0.059488\n",
      "onion     0.043422\n",
      "milk      0.037343\n",
      "Name: german, dtype: float64\n",
      "\n",
      "\n",
      "greek\n",
      "olive_oil      0.085628\n",
      "garlic         0.050075\n",
      "onion          0.041062\n",
      "lemon_juice    0.038057\n",
      "tomato         0.037556\n",
      "Name: greek, dtype: float64\n",
      "\n",
      "\n",
      "indian\n",
      "cumin        0.058968\n",
      "turmeric     0.049657\n",
      "onion        0.048677\n",
      "coriander    0.046717\n",
      "cayenne      0.046390\n",
      "Name: indian, dtype: float64\n",
      "\n",
      "\n",
      "irish\n",
      "butter        0.074453\n",
      "wheat         0.062774\n",
      "egg           0.058394\n",
      "cream         0.033577\n",
      "buttermilk    0.032117\n",
      "Name: irish, dtype: float64\n",
      "\n",
      "\n",
      "italian\n",
      "olive_oil    0.068450\n",
      "garlic       0.059382\n",
      "tomato       0.044302\n",
      "onion        0.036901\n",
      "basil        0.035233\n",
      "Name: italian, dtype: float64\n",
      "\n",
      "\n",
      "japanese\n",
      "soy_sauce        0.066814\n",
      "rice             0.052129\n",
      "vinegar          0.043319\n",
      "vegetable_oil    0.041116\n",
      "sake             0.032673\n",
      "Name: japanese, dtype: float64\n",
      "\n",
      "\n",
      "jewish\n",
      "egg              0.075068\n",
      "wheat            0.063011\n",
      "butter           0.039673\n",
      "onion            0.038506\n",
      "vegetable_oil    0.034617\n",
      "Name: jewish, dtype: float64\n",
      "\n",
      "\n",
      "korean\n",
      "garlic        0.067972\n",
      "scallion      0.060340\n",
      "cayenne       0.059476\n",
      "soy_sauce     0.056740\n",
      "sesame_oil    0.049827\n",
      "Name: korean, dtype: float64\n",
      "\n",
      "\n",
      "mediterranean\n",
      "olive_oil    0.092074\n",
      "garlic       0.058447\n",
      "onion        0.044836\n",
      "tomato       0.040432\n",
      "parsley      0.034828\n",
      "Name: mediterranean, dtype: float64\n",
      "\n",
      "\n",
      "mexican\n",
      "cayenne    0.077292\n",
      "onion      0.072013\n",
      "garlic     0.065282\n",
      "tomato     0.061763\n",
      "corn       0.033565\n",
      "Name: mexican, dtype: float64\n",
      "\n",
      "\n",
      "middleeastern\n",
      "olive_oil      0.063948\n",
      "garlic         0.049785\n",
      "wheat          0.040343\n",
      "lemon_juice    0.038197\n",
      "onion          0.037768\n",
      "Name: middleeastern, dtype: float64\n",
      "\n",
      "\n",
      "moroccan\n",
      "olive_oil    0.067476\n",
      "cumin        0.050607\n",
      "onion        0.045884\n",
      "garlic       0.042510\n",
      "cinnamon     0.040486\n",
      "Name: moroccan, dtype: float64\n",
      "\n",
      "\n",
      "north-african\n",
      "onion        0.050847\n",
      "olive_oil    0.046225\n",
      "cumin        0.044684\n",
      "garlic       0.043143\n",
      "tomato       0.040062\n",
      "Name: north-african, dtype: float64\n",
      "\n",
      "\n",
      "scandinavian\n",
      "butter    0.093787\n",
      "wheat     0.084994\n",
      "egg       0.077374\n",
      "cream     0.042204\n",
      "milk      0.032825\n",
      "Name: scandinavian, dtype: float64\n",
      "\n",
      "\n",
      "south-america\n",
      "onion     0.057895\n",
      "garlic    0.050000\n",
      "egg       0.047368\n",
      "milk      0.042105\n",
      "pepper    0.034211\n",
      "Name: south-america, dtype: float64\n",
      "\n",
      "\n",
      "southern_soulfood\n",
      "butter    0.065466\n",
      "wheat     0.054992\n",
      "egg       0.047136\n",
      "corn      0.033715\n",
      "onion     0.032733\n",
      "Name: southern_soulfood, dtype: float64\n",
      "\n",
      "\n",
      "southwestern\n",
      "cayenne      0.078362\n",
      "garlic       0.059662\n",
      "onion        0.058771\n",
      "cilantro     0.049866\n",
      "olive_oil    0.038290\n",
      "Name: southwestern, dtype: float64\n",
      "\n",
      "\n",
      "spain\n",
      "onion          0.063978\n",
      "olive_oil      0.059805\n",
      "garlic         0.052851\n",
      "tomato         0.044506\n",
      "bell_pepper    0.041725\n",
      "Name: spain, dtype: float64\n",
      "\n",
      "\n",
      "spanish_portuguese\n",
      "olive_oil      0.068694\n",
      "garlic         0.062688\n",
      "onion          0.047297\n",
      "bell_pepper    0.037538\n",
      "tomato         0.035661\n",
      "Name: spanish_portuguese, dtype: float64\n",
      "\n",
      "\n",
      "thai\n",
      "garlic      0.050014\n",
      "fish        0.044232\n",
      "cayenne     0.039318\n",
      "cilantro    0.034981\n",
      "ginger      0.032958\n",
      "Name: thai, dtype: float64\n",
      "\n",
      "\n",
      "uk-and-ireland\n",
      "wheat     0.082649\n",
      "butter    0.081199\n",
      "egg       0.066216\n",
      "milk      0.052199\n",
      "onion     0.041566\n",
      "Name: uk-and-ireland, dtype: float64\n",
      "\n",
      "\n",
      "vietnamese\n",
      "fish        0.065975\n",
      "garlic      0.065033\n",
      "rice        0.044298\n",
      "cilantro    0.038643\n",
      "cayenne     0.038643\n",
      "Name: vietnamese, dtype: float64\n",
      "\n",
      "\n",
      "western\n",
      "egg             0.063201\n",
      "wheat           0.056908\n",
      "butter          0.056635\n",
      "black_pepper    0.044870\n",
      "onion           0.037756\n",
      "Name: western, dtype: float64\n",
      "\n",
      "\n"
     ]
    }
   ],
   "source": [
    "for Region in NameofRegion:\n",
    "#python2     print Region\n",
    "#python2     print by_country_normalized.loc[Region].sort_values( ascending=False).ix[0:5] \n",
    "#python2     print \"\\n\"\n",
    "    print (Region)\n",
    "    print (by_country_normalized.loc[Region].sort_values( ascending=False).ix[0:5]) \n",
    "    print (\"\\n\")"
   ]
  },
  {
   "cell_type": "markdown",
   "metadata": {},
   "source": [
    "<hr><a id=\"ref2\"></a>"
   ]
  },
  {
   "cell_type": "markdown",
   "metadata": {},
   "source": [
    "# <center>3. 哪些烹饪方法是最相似的? (K-means聚类)</center>"
   ]
  },
  {
   "cell_type": "markdown",
   "metadata": {},
   "source": [
    "从sklearn加载k-means聚类库"
   ]
  },
  {
   "cell_type": "code",
   "execution_count": 9,
   "metadata": {
    "collapsed": true
   },
   "outputs": [],
   "source": [
    "from sklearn.cluster import KMeans"
   ]
  },
  {
   "cell_type": "markdown",
   "metadata": {},
   "source": [
    "设置簇的个数:"
   ]
  },
  {
   "cell_type": "code",
   "execution_count": 13,
   "metadata": {
    "collapsed": true
   },
   "outputs": [],
   "source": [
    "n_cluster = 5"
   ]
  },
  {
   "cell_type": "markdown",
   "metadata": {},
   "source": [
    "运行聚类:"
   ]
  },
  {
   "cell_type": "code",
   "execution_count": 14,
   "metadata": {
    "collapsed": false
   },
   "outputs": [],
   "source": [
    "y_pred = KMeans(n_clusters = n_cluster, random_state=0).fit_predict(by_country_normalized)"
   ]
  },
  {
   "cell_type": "markdown",
   "metadata": {},
   "source": [
    "## 展示聚类结果 "
   ]
  },
  {
   "cell_type": "code",
   "execution_count": 15,
   "metadata": {
    "collapsed": false
   },
   "outputs": [
    {
     "name": "stdout",
     "output_type": "stream",
     "text": [
      "Cluster number 0----------------------------------------------------------------------------\n",
      "['american', 'canada', 'eastern-europe', 'easterneuropean_russian', 'english_scottish', 'french', 'german', 'irish', 'jewish', 'scandinavian', 'southern_soulfood', 'uk-and-ireland', 'western']\n",
      "\n",
      "Cluster number 1----------------------------------------------------------------------------\n",
      "['greek', 'italian', 'mediterranean', 'middleeastern', 'moroccan', 'spain', 'spanish_portuguese']\n",
      "\n",
      "Cluster number 2----------------------------------------------------------------------------\n",
      "['asian', 'chinese', 'east_asian', 'japanese', 'korean']\n",
      "\n",
      "Cluster number 3----------------------------------------------------------------------------\n",
      "['african', 'cajun_creole', 'caribbean', 'central_southamerican', 'indian', 'mexican', 'north-african', 'south-america', 'southwestern']\n",
      "\n",
      "Cluster number 4----------------------------------------------------------------------------\n",
      "['thai', 'vietnamese']\n",
      "\n"
     ]
    }
   ],
   "source": [
    "for i in range(0,n_cluster):\n",
    "    print (\"Cluster number \"+str(i) +\"----------------------------------------------------------------------------\")\n",
    "    print (list(by_country_normalized[y_pred==i].index))\n",
    "    print (\"\")"
   ]
  },
  {
   "cell_type": "markdown",
   "metadata": {},
   "source": [
    "<hr>"
   ]
  },
  {
   "cell_type": "markdown",
   "metadata": {},
   "source": [
    "<img src = https://ibm.box.com/shared/static/jrv1mg8v3e7gm58go1ccn4u78pxhmb1l.png width = 600>"
   ]
  },
  {
   "cell_type": "markdown",
   "metadata": {},
   "source": [
    "<hr><a id=\"ref3\"></a>"
   ]
  },
  {
   "cell_type": "markdown",
   "metadata": {},
   "source": [
    "# <center> 4. 我们能否根据食材来预测烹饪类型? (决策树)</center>\n",
    "\n",
    "**总体目标:**\n",
    "- 创建一个决策树模型基于食材预测烹饪类型（国家）\n",
    "\n",
    "<br>\n",
    "**目标:**\n",
    "- 加载与决策树相关的库 \n",
    "- 训练所有食谱得到一棵决策树\n"
   ]
  },
  {
   "cell_type": "code",
   "execution_count": 28,
   "metadata": {
    "collapsed": false
   },
   "outputs": [],
   "source": [
    "#import sklearn.cross_validation as cv\n",
    "from sklearn import tree\n",
    "from sklearn.metrics import accuracy_score,confusion_matrix"
   ]
  },
  {
   "cell_type": "markdown",
   "metadata": {},
   "source": [
    "###  将所有列转换为数字 ，将No转换为0，Yes转换为1"
   ]
  },
  {
   "cell_type": "code",
   "execution_count": 29,
   "metadata": {
    "collapsed": false
   },
   "outputs": [],
   "source": [
    "recipes.replace(to_replace='No', value=0, inplace=True)\n",
    "recipes.replace(to_replace='Yes', value=1, inplace=True)"
   ]
  },
  {
   "cell_type": "code",
   "execution_count": 27,
   "metadata": {
    "collapsed": false
   },
   "outputs": [
    {
     "data": {
      "text/html": [
       "<div>\n",
       "<table border=\"1\" class=\"dataframe\">\n",
       "  <thead>\n",
       "    <tr style=\"text-align: right;\">\n",
       "      <th></th>\n",
       "      <th>country</th>\n",
       "      <th>almond</th>\n",
       "      <th>angelica</th>\n",
       "      <th>anise</th>\n",
       "      <th>anise_seed</th>\n",
       "      <th>apple</th>\n",
       "      <th>apple_brandy</th>\n",
       "      <th>apricot</th>\n",
       "      <th>armagnac</th>\n",
       "      <th>artemisia</th>\n",
       "      <th>...</th>\n",
       "      <th>whiskey</th>\n",
       "      <th>white_bread</th>\n",
       "      <th>white_wine</th>\n",
       "      <th>whole_grain_wheat_flour</th>\n",
       "      <th>wine</th>\n",
       "      <th>wood</th>\n",
       "      <th>yam</th>\n",
       "      <th>yeast</th>\n",
       "      <th>yogurt</th>\n",
       "      <th>zucchini</th>\n",
       "    </tr>\n",
       "  </thead>\n",
       "  <tbody>\n",
       "    <tr>\n",
       "      <th>0</th>\n",
       "      <td>vietnamese</td>\n",
       "      <td>0</td>\n",
       "      <td>0</td>\n",
       "      <td>0</td>\n",
       "      <td>0</td>\n",
       "      <td>0</td>\n",
       "      <td>0</td>\n",
       "      <td>0</td>\n",
       "      <td>0</td>\n",
       "      <td>0</td>\n",
       "      <td>...</td>\n",
       "      <td>0</td>\n",
       "      <td>0</td>\n",
       "      <td>0</td>\n",
       "      <td>0</td>\n",
       "      <td>0</td>\n",
       "      <td>0</td>\n",
       "      <td>0</td>\n",
       "      <td>0</td>\n",
       "      <td>0</td>\n",
       "      <td>0</td>\n",
       "    </tr>\n",
       "    <tr>\n",
       "      <th>1</th>\n",
       "      <td>vietnamese</td>\n",
       "      <td>0</td>\n",
       "      <td>0</td>\n",
       "      <td>0</td>\n",
       "      <td>0</td>\n",
       "      <td>0</td>\n",
       "      <td>0</td>\n",
       "      <td>0</td>\n",
       "      <td>0</td>\n",
       "      <td>0</td>\n",
       "      <td>...</td>\n",
       "      <td>0</td>\n",
       "      <td>0</td>\n",
       "      <td>0</td>\n",
       "      <td>0</td>\n",
       "      <td>0</td>\n",
       "      <td>0</td>\n",
       "      <td>0</td>\n",
       "      <td>0</td>\n",
       "      <td>0</td>\n",
       "      <td>0</td>\n",
       "    </tr>\n",
       "    <tr>\n",
       "      <th>2</th>\n",
       "      <td>vietnamese</td>\n",
       "      <td>0</td>\n",
       "      <td>0</td>\n",
       "      <td>0</td>\n",
       "      <td>0</td>\n",
       "      <td>0</td>\n",
       "      <td>0</td>\n",
       "      <td>0</td>\n",
       "      <td>0</td>\n",
       "      <td>0</td>\n",
       "      <td>...</td>\n",
       "      <td>0</td>\n",
       "      <td>0</td>\n",
       "      <td>0</td>\n",
       "      <td>0</td>\n",
       "      <td>0</td>\n",
       "      <td>0</td>\n",
       "      <td>0</td>\n",
       "      <td>0</td>\n",
       "      <td>0</td>\n",
       "      <td>0</td>\n",
       "    </tr>\n",
       "    <tr>\n",
       "      <th>3</th>\n",
       "      <td>vietnamese</td>\n",
       "      <td>0</td>\n",
       "      <td>0</td>\n",
       "      <td>0</td>\n",
       "      <td>0</td>\n",
       "      <td>0</td>\n",
       "      <td>0</td>\n",
       "      <td>0</td>\n",
       "      <td>0</td>\n",
       "      <td>0</td>\n",
       "      <td>...</td>\n",
       "      <td>0</td>\n",
       "      <td>0</td>\n",
       "      <td>0</td>\n",
       "      <td>0</td>\n",
       "      <td>0</td>\n",
       "      <td>0</td>\n",
       "      <td>0</td>\n",
       "      <td>0</td>\n",
       "      <td>0</td>\n",
       "      <td>0</td>\n",
       "    </tr>\n",
       "    <tr>\n",
       "      <th>4</th>\n",
       "      <td>vietnamese</td>\n",
       "      <td>0</td>\n",
       "      <td>0</td>\n",
       "      <td>0</td>\n",
       "      <td>0</td>\n",
       "      <td>0</td>\n",
       "      <td>0</td>\n",
       "      <td>0</td>\n",
       "      <td>0</td>\n",
       "      <td>0</td>\n",
       "      <td>...</td>\n",
       "      <td>0</td>\n",
       "      <td>0</td>\n",
       "      <td>0</td>\n",
       "      <td>0</td>\n",
       "      <td>0</td>\n",
       "      <td>0</td>\n",
       "      <td>0</td>\n",
       "      <td>0</td>\n",
       "      <td>0</td>\n",
       "      <td>0</td>\n",
       "    </tr>\n",
       "  </tbody>\n",
       "</table>\n",
       "<p>5 rows × 384 columns</p>\n",
       "</div>"
      ],
      "text/plain": [
       "      country  almond  angelica  anise  anise_seed  apple  apple_brandy  \\\n",
       "0  vietnamese       0         0      0           0      0             0   \n",
       "1  vietnamese       0         0      0           0      0             0   \n",
       "2  vietnamese       0         0      0           0      0             0   \n",
       "3  vietnamese       0         0      0           0      0             0   \n",
       "4  vietnamese       0         0      0           0      0             0   \n",
       "\n",
       "   apricot  armagnac  artemisia    ...     whiskey  white_bread  white_wine  \\\n",
       "0        0         0          0    ...           0            0           0   \n",
       "1        0         0          0    ...           0            0           0   \n",
       "2        0         0          0    ...           0            0           0   \n",
       "3        0         0          0    ...           0            0           0   \n",
       "4        0         0          0    ...           0            0           0   \n",
       "\n",
       "   whole_grain_wheat_flour  wine  wood  yam  yeast  yogurt  zucchini  \n",
       "0                        0     0     0    0      0       0         0  \n",
       "1                        0     0     0    0      0       0         0  \n",
       "2                        0     0     0    0      0       0         0  \n",
       "3                        0     0     0    0      0       0         0  \n",
       "4                        0     0     0    0      0       0         0  \n",
       "\n",
       "[5 rows x 384 columns]"
      ]
     },
     "execution_count": 27,
     "metadata": {},
     "output_type": "execute_result"
    }
   ],
   "source": [
    "recipes.head()"
   ]
  },
  {
   "cell_type": "markdown",
   "metadata": {},
   "source": [
    "查看前五行数据中rice列的数据"
   ]
  },
  {
   "cell_type": "code",
   "execution_count": 28,
   "metadata": {
    "collapsed": false
   },
   "outputs": [
    {
     "data": {
      "text/plain": [
       "0    1\n",
       "1    0\n",
       "2    0\n",
       "3    1\n",
       "4    1\n",
       "5    1\n",
       "Name: rice, dtype: int64"
      ]
     },
     "execution_count": 28,
     "metadata": {},
     "output_type": "execute_result"
    }
   ],
   "source": [
    "recipes.loc[0:5][\"rice\"]"
   ]
  },
  {
   "cell_type": "markdown",
   "metadata": {},
   "source": [
    "### 获取每个样本的分类"
   ]
  },
  {
   "cell_type": "code",
   "execution_count": 29,
   "metadata": {
    "collapsed": false
   },
   "outputs": [
    {
     "data": {
      "text/plain": [
       "0    vietnamese\n",
       "1    vietnamese\n",
       "2    vietnamese\n",
       "3    vietnamese\n",
       "4    vietnamese\n",
       "5    vietnamese\n",
       "6    vietnamese\n",
       "7    vietnamese\n",
       "8    vietnamese\n",
       "9    vietnamese\n",
       "Name: country, dtype: object"
      ]
     },
     "execution_count": 29,
     "metadata": {},
     "output_type": "execute_result"
    }
   ],
   "source": [
    "y = recipes['country']\n",
    "y[0:10]"
   ]
  },
  {
   "cell_type": "markdown",
   "metadata": {
    "collapsed": false
   },
   "source": [
    "### 获取每个样本的特征"
   ]
  },
  {
   "cell_type": "code",
   "execution_count": 30,
   "metadata": {
    "collapsed": false
   },
   "outputs": [
    {
     "data": {
      "text/html": [
       "<div>\n",
       "<table border=\"1\" class=\"dataframe\">\n",
       "  <thead>\n",
       "    <tr style=\"text-align: right;\">\n",
       "      <th></th>\n",
       "      <th>almond</th>\n",
       "      <th>angelica</th>\n",
       "      <th>anise</th>\n",
       "      <th>anise_seed</th>\n",
       "      <th>apple</th>\n",
       "      <th>apple_brandy</th>\n",
       "      <th>apricot</th>\n",
       "      <th>armagnac</th>\n",
       "      <th>artemisia</th>\n",
       "      <th>artichoke</th>\n",
       "      <th>...</th>\n",
       "      <th>whiskey</th>\n",
       "      <th>white_bread</th>\n",
       "      <th>white_wine</th>\n",
       "      <th>whole_grain_wheat_flour</th>\n",
       "      <th>wine</th>\n",
       "      <th>wood</th>\n",
       "      <th>yam</th>\n",
       "      <th>yeast</th>\n",
       "      <th>yogurt</th>\n",
       "      <th>zucchini</th>\n",
       "    </tr>\n",
       "  </thead>\n",
       "  <tbody>\n",
       "    <tr>\n",
       "      <th>0</th>\n",
       "      <td>0</td>\n",
       "      <td>0</td>\n",
       "      <td>0</td>\n",
       "      <td>0</td>\n",
       "      <td>0</td>\n",
       "      <td>0</td>\n",
       "      <td>0</td>\n",
       "      <td>0</td>\n",
       "      <td>0</td>\n",
       "      <td>0</td>\n",
       "      <td>...</td>\n",
       "      <td>0</td>\n",
       "      <td>0</td>\n",
       "      <td>0</td>\n",
       "      <td>0</td>\n",
       "      <td>0</td>\n",
       "      <td>0</td>\n",
       "      <td>0</td>\n",
       "      <td>0</td>\n",
       "      <td>0</td>\n",
       "      <td>0</td>\n",
       "    </tr>\n",
       "    <tr>\n",
       "      <th>1</th>\n",
       "      <td>0</td>\n",
       "      <td>0</td>\n",
       "      <td>0</td>\n",
       "      <td>0</td>\n",
       "      <td>0</td>\n",
       "      <td>0</td>\n",
       "      <td>0</td>\n",
       "      <td>0</td>\n",
       "      <td>0</td>\n",
       "      <td>0</td>\n",
       "      <td>...</td>\n",
       "      <td>0</td>\n",
       "      <td>0</td>\n",
       "      <td>0</td>\n",
       "      <td>0</td>\n",
       "      <td>0</td>\n",
       "      <td>0</td>\n",
       "      <td>0</td>\n",
       "      <td>0</td>\n",
       "      <td>0</td>\n",
       "      <td>0</td>\n",
       "    </tr>\n",
       "    <tr>\n",
       "      <th>2</th>\n",
       "      <td>0</td>\n",
       "      <td>0</td>\n",
       "      <td>0</td>\n",
       "      <td>0</td>\n",
       "      <td>0</td>\n",
       "      <td>0</td>\n",
       "      <td>0</td>\n",
       "      <td>0</td>\n",
       "      <td>0</td>\n",
       "      <td>0</td>\n",
       "      <td>...</td>\n",
       "      <td>0</td>\n",
       "      <td>0</td>\n",
       "      <td>0</td>\n",
       "      <td>0</td>\n",
       "      <td>0</td>\n",
       "      <td>0</td>\n",
       "      <td>0</td>\n",
       "      <td>0</td>\n",
       "      <td>0</td>\n",
       "      <td>0</td>\n",
       "    </tr>\n",
       "    <tr>\n",
       "      <th>3</th>\n",
       "      <td>0</td>\n",
       "      <td>0</td>\n",
       "      <td>0</td>\n",
       "      <td>0</td>\n",
       "      <td>0</td>\n",
       "      <td>0</td>\n",
       "      <td>0</td>\n",
       "      <td>0</td>\n",
       "      <td>0</td>\n",
       "      <td>0</td>\n",
       "      <td>...</td>\n",
       "      <td>0</td>\n",
       "      <td>0</td>\n",
       "      <td>0</td>\n",
       "      <td>0</td>\n",
       "      <td>0</td>\n",
       "      <td>0</td>\n",
       "      <td>0</td>\n",
       "      <td>0</td>\n",
       "      <td>0</td>\n",
       "      <td>0</td>\n",
       "    </tr>\n",
       "    <tr>\n",
       "      <th>4</th>\n",
       "      <td>0</td>\n",
       "      <td>0</td>\n",
       "      <td>0</td>\n",
       "      <td>0</td>\n",
       "      <td>0</td>\n",
       "      <td>0</td>\n",
       "      <td>0</td>\n",
       "      <td>0</td>\n",
       "      <td>0</td>\n",
       "      <td>0</td>\n",
       "      <td>...</td>\n",
       "      <td>0</td>\n",
       "      <td>0</td>\n",
       "      <td>0</td>\n",
       "      <td>0</td>\n",
       "      <td>0</td>\n",
       "      <td>0</td>\n",
       "      <td>0</td>\n",
       "      <td>0</td>\n",
       "      <td>0</td>\n",
       "      <td>0</td>\n",
       "    </tr>\n",
       "    <tr>\n",
       "      <th>5</th>\n",
       "      <td>0</td>\n",
       "      <td>0</td>\n",
       "      <td>0</td>\n",
       "      <td>0</td>\n",
       "      <td>0</td>\n",
       "      <td>0</td>\n",
       "      <td>0</td>\n",
       "      <td>0</td>\n",
       "      <td>0</td>\n",
       "      <td>0</td>\n",
       "      <td>...</td>\n",
       "      <td>0</td>\n",
       "      <td>0</td>\n",
       "      <td>0</td>\n",
       "      <td>0</td>\n",
       "      <td>0</td>\n",
       "      <td>0</td>\n",
       "      <td>0</td>\n",
       "      <td>0</td>\n",
       "      <td>0</td>\n",
       "      <td>0</td>\n",
       "    </tr>\n",
       "    <tr>\n",
       "      <th>6</th>\n",
       "      <td>0</td>\n",
       "      <td>0</td>\n",
       "      <td>0</td>\n",
       "      <td>0</td>\n",
       "      <td>0</td>\n",
       "      <td>0</td>\n",
       "      <td>0</td>\n",
       "      <td>0</td>\n",
       "      <td>0</td>\n",
       "      <td>0</td>\n",
       "      <td>...</td>\n",
       "      <td>0</td>\n",
       "      <td>0</td>\n",
       "      <td>0</td>\n",
       "      <td>0</td>\n",
       "      <td>0</td>\n",
       "      <td>0</td>\n",
       "      <td>0</td>\n",
       "      <td>0</td>\n",
       "      <td>0</td>\n",
       "      <td>0</td>\n",
       "    </tr>\n",
       "    <tr>\n",
       "      <th>7</th>\n",
       "      <td>0</td>\n",
       "      <td>0</td>\n",
       "      <td>0</td>\n",
       "      <td>0</td>\n",
       "      <td>0</td>\n",
       "      <td>0</td>\n",
       "      <td>0</td>\n",
       "      <td>0</td>\n",
       "      <td>0</td>\n",
       "      <td>0</td>\n",
       "      <td>...</td>\n",
       "      <td>0</td>\n",
       "      <td>0</td>\n",
       "      <td>0</td>\n",
       "      <td>0</td>\n",
       "      <td>0</td>\n",
       "      <td>0</td>\n",
       "      <td>0</td>\n",
       "      <td>0</td>\n",
       "      <td>0</td>\n",
       "      <td>0</td>\n",
       "    </tr>\n",
       "    <tr>\n",
       "      <th>8</th>\n",
       "      <td>0</td>\n",
       "      <td>0</td>\n",
       "      <td>0</td>\n",
       "      <td>0</td>\n",
       "      <td>0</td>\n",
       "      <td>0</td>\n",
       "      <td>0</td>\n",
       "      <td>0</td>\n",
       "      <td>0</td>\n",
       "      <td>0</td>\n",
       "      <td>...</td>\n",
       "      <td>0</td>\n",
       "      <td>0</td>\n",
       "      <td>0</td>\n",
       "      <td>0</td>\n",
       "      <td>0</td>\n",
       "      <td>0</td>\n",
       "      <td>0</td>\n",
       "      <td>0</td>\n",
       "      <td>0</td>\n",
       "      <td>0</td>\n",
       "    </tr>\n",
       "    <tr>\n",
       "      <th>9</th>\n",
       "      <td>0</td>\n",
       "      <td>0</td>\n",
       "      <td>0</td>\n",
       "      <td>0</td>\n",
       "      <td>0</td>\n",
       "      <td>0</td>\n",
       "      <td>0</td>\n",
       "      <td>0</td>\n",
       "      <td>0</td>\n",
       "      <td>0</td>\n",
       "      <td>...</td>\n",
       "      <td>0</td>\n",
       "      <td>0</td>\n",
       "      <td>0</td>\n",
       "      <td>0</td>\n",
       "      <td>0</td>\n",
       "      <td>0</td>\n",
       "      <td>0</td>\n",
       "      <td>0</td>\n",
       "      <td>0</td>\n",
       "      <td>0</td>\n",
       "    </tr>\n",
       "  </tbody>\n",
       "</table>\n",
       "<p>10 rows × 383 columns</p>\n",
       "</div>"
      ],
      "text/plain": [
       "   almond  angelica  anise  anise_seed  apple  apple_brandy  apricot  \\\n",
       "0       0         0      0           0      0             0        0   \n",
       "1       0         0      0           0      0             0        0   \n",
       "2       0         0      0           0      0             0        0   \n",
       "3       0         0      0           0      0             0        0   \n",
       "4       0         0      0           0      0             0        0   \n",
       "5       0         0      0           0      0             0        0   \n",
       "6       0         0      0           0      0             0        0   \n",
       "7       0         0      0           0      0             0        0   \n",
       "8       0         0      0           0      0             0        0   \n",
       "9       0         0      0           0      0             0        0   \n",
       "\n",
       "   armagnac  artemisia  artichoke    ...     whiskey  white_bread  white_wine  \\\n",
       "0         0          0          0    ...           0            0           0   \n",
       "1         0          0          0    ...           0            0           0   \n",
       "2         0          0          0    ...           0            0           0   \n",
       "3         0          0          0    ...           0            0           0   \n",
       "4         0          0          0    ...           0            0           0   \n",
       "5         0          0          0    ...           0            0           0   \n",
       "6         0          0          0    ...           0            0           0   \n",
       "7         0          0          0    ...           0            0           0   \n",
       "8         0          0          0    ...           0            0           0   \n",
       "9         0          0          0    ...           0            0           0   \n",
       "\n",
       "   whole_grain_wheat_flour  wine  wood  yam  yeast  yogurt  zucchini  \n",
       "0                        0     0     0    0      0       0         0  \n",
       "1                        0     0     0    0      0       0         0  \n",
       "2                        0     0     0    0      0       0         0  \n",
       "3                        0     0     0    0      0       0         0  \n",
       "4                        0     0     0    0      0       0         0  \n",
       "5                        0     0     0    0      0       0         0  \n",
       "6                        0     0     0    0      0       0         0  \n",
       "7                        0     0     0    0      0       0         0  \n",
       "8                        0     0     0    0      0       0         0  \n",
       "9                        0     0     0    0      0       0         0  \n",
       "\n",
       "[10 rows x 383 columns]"
      ]
     },
     "execution_count": 30,
     "metadata": {},
     "output_type": "execute_result"
    }
   ],
   "source": [
    "X = recipes.ix[:,1:]\n",
    "X[0:10]"
   ]
  },
  {
   "cell_type": "markdown",
   "metadata": {},
   "source": [
    "<br> \n",
    "**问题:**\n",
    "- 决策树不够具体 \n",
    "\n",
    "**目标:**\n",
    "- 单独为东亚国家（韩国、日本、中国、泰国）和印度训练决策树 "
   ]
  },
  {
   "cell_type": "markdown",
   "metadata": {},
   "source": [
    "#### 使用指定国家的数据来生成决策树模型，并且将结果赋值给变量bamboo_tree"
   ]
  },
  {
   "cell_type": "markdown",
   "metadata": {},
   "source": [
    "选择东亚国家+印度"
   ]
  },
  {
   "cell_type": "code",
   "execution_count": 30,
   "metadata": {
    "collapsed": false
   },
   "outputs": [],
   "source": [
    "Newdata = recipes[recipes.country.isin([\"korean\",\"japanese\",\"chinese\",\"thai\",\"indian\"])]"
   ]
  },
  {
   "cell_type": "markdown",
   "metadata": {},
   "source": [
    "选择每个样本的特征和分类"
   ]
  },
  {
   "cell_type": "code",
   "execution_count": 31,
   "metadata": {
    "collapsed": false
   },
   "outputs": [
    {
     "name": "stderr",
     "output_type": "stream",
     "text": [
      "/Users/chenhaopeng/anaconda/lib/python3.6/site-packages/ipykernel/__main__.py:2: DeprecationWarning: \n",
      ".ix is deprecated. Please use\n",
      ".loc for label based indexing or\n",
      ".iloc for positional indexing\n",
      "\n",
      "See the documentation here:\n",
      "http://pandas.pydata.org/pandas-docs/stable/indexing.html#ix-indexer-is-deprecated\n",
      "  from ipykernel import kernelapp as app\n"
     ]
    }
   ],
   "source": [
    "y=Newdata['country']\n",
    "X=Newdata.ix[:,1:]"
   ]
  },
  {
   "cell_type": "markdown",
   "metadata": {},
   "source": [
    "创建并且训练分类树"
   ]
  },
  {
   "cell_type": "code",
   "execution_count": 32,
   "metadata": {
    "collapsed": false
   },
   "outputs": [
    {
     "data": {
      "text/plain": [
       "DecisionTreeClassifier(class_weight=None, criterion='gini', max_depth=5,\n",
       "            max_features=None, max_leaf_nodes=None,\n",
       "            min_impurity_split=1e-07, min_samples_leaf=100,\n",
       "            min_samples_split=100, min_weight_fraction_leaf=0.0,\n",
       "            presort=False, random_state=None, splitter='best')"
      ]
     },
     "execution_count": 32,
     "metadata": {},
     "output_type": "execute_result"
    }
   ],
   "source": [
    "bamboo_tree = tree.DecisionTreeClassifier(max_depth=5,min_samples_split=100,min_samples_leaf=100)\n",
    "bamboo_tree.fit(X, y)"
   ]
  },
  {
   "cell_type": "markdown",
   "metadata": {},
   "source": [
    "### 树的可视化"
   ]
  },
  {
   "cell_type": "code",
   "execution_count": 33,
   "metadata": {
    "collapsed": false
   },
   "outputs": [],
   "source": [
    "#! 管理员命令行 conda install pydotplus\n",
    "# 同时在外部需要下载http://www.graphviz.org/pub/graphviz/stable/windows/graphviz-2.38.msi然后双击安装，这是一个画流程图的工具\n",
    "\n",
    "\n",
    "from sklearn.externals.six import StringIO\n",
    "import pydotplus\n",
    "import matplotlib.image as mpimg\n",
    "\n",
    "# 然后要在环境变量里添加这个工具的可执行目录，否则之后的代码会出现InvocationException: GraphViz's executables not found 错误\n",
    "import os     \n",
    "os.environ[\"PATH\"] += os.pathsep + 'C:/Program Files (x86)/Graphviz2.38/bin/'"
   ]
  },
  {
   "cell_type": "code",
   "execution_count": 35,
   "metadata": {
    "collapsed": false
   },
   "outputs": [
    {
     "data": {
      "text/plain": [
       "<matplotlib.image.AxesImage at 0x11bfc48d0>"
      ]
     },
     "execution_count": 35,
     "metadata": {},
     "output_type": "execute_result"
    },
    {
     "data": {
      "image/png": "[encoded data removed]",
      "text/plain": [
       "<matplotlib.figure.Figure at 0x11bb21dd8>"
      ]
     },
     "metadata": {},
     "output_type": "display_data"
    }
   ],
   "source": [
    "dot_data = StringIO()\n",
    "filename = \"bombootree.png\"\n",
    "Features = list(recipes.ix[:,1:].columns.values)\n",
    "out=tree.export_graphviz(bamboo_tree,feature_names=Features, out_file=dot_data,class_names=np.unique(y), filled=True,  special_characters=True,rotate=False)  \n",
    "graph = pydotplus.graph_from_dot_data(dot_data.getvalue())  \n",
    "graph.write_png(filename)\n",
    "img = mpimg.imread(filename)\n",
    "plt.figure(figsize=(100, 200))\n",
    "plt.imshow(img,interpolation='nearest')"
   ]
  },
  {
   "cell_type": "markdown",
   "metadata": {
    "collapsed": true
   },
   "source": [
    "执行一次预测并且得到决策树的准确率"
   ]
  },
  {
   "cell_type": "code",
   "execution_count": 34,
   "metadata": {
    "collapsed": false
   },
   "outputs": [
    {
     "data": {
      "text/plain": [
       "0.5514705882352942"
      ]
     },
     "execution_count": 34,
     "metadata": {},
     "output_type": "execute_result"
    }
   ],
   "source": [
    "y_pred=bamboo_tree.predict(X)\n",
    "accuracy_score(y, y_pred)"
   ]
  },
  {
   "cell_type": "code",
   "execution_count": 37,
   "metadata": {
    "collapsed": false
   },
   "outputs": [
    {
     "data": {
      "text/plain": [
       "array(['thai', 'korean', 'korean', ..., 'korean', 'korean', 'korean'], dtype=object)"
      ]
     },
     "execution_count": 37,
     "metadata": {},
     "output_type": "execute_result"
    }
   ],
   "source": [
    "y_pred"
   ]
  },
  {
   "cell_type": "code",
   "execution_count": null,
   "metadata": {
    "collapsed": true
   },
   "outputs": [],
   "source": [
    "? accuracy_score"
   ]
  },
  {
   "cell_type": "markdown",
   "metadata": {
    "collapsed": true
   },
   "source": [
    "# <center> 5. 模型评估</center>\n",
    "\n",
    "**目标:**\n",
    "- 将数据分成训练数据和测试数据两部分\n",
    "- 在训练数据上训练模型\n",
    "- 使用不含国家标签的测试数据去检测模型的预测结果"
   ]
  },
  {
   "cell_type": "markdown",
   "metadata": {
    "collapsed": true
   },
   "source": [
    "**将数据集限制在 东亚国家和印度**\n",
    "把新的数据集赋值给`bamboo`:"
   ]
  },
  {
   "cell_type": "code",
   "execution_count": 38,
   "metadata": {
    "collapsed": false
   },
   "outputs": [],
   "source": [
    "bamboo=recipes[recipes.country.isin([\"korean\",\"japanese\",\"chinese\",\"thai\",\"indian\"])]"
   ]
  },
  {
   "cell_type": "code",
   "execution_count": 39,
   "metadata": {
    "collapsed": false
   },
   "outputs": [
    {
     "data": {
      "text/html": [
       "<div>\n",
       "<table border=\"1\" class=\"dataframe\">\n",
       "  <thead>\n",
       "    <tr style=\"text-align: right;\">\n",
       "      <th></th>\n",
       "      <th>country</th>\n",
       "      <th>almond</th>\n",
       "      <th>angelica</th>\n",
       "      <th>anise</th>\n",
       "      <th>anise_seed</th>\n",
       "      <th>apple</th>\n",
       "      <th>apple_brandy</th>\n",
       "      <th>apricot</th>\n",
       "      <th>armagnac</th>\n",
       "      <th>artemisia</th>\n",
       "      <th>...</th>\n",
       "      <th>whiskey</th>\n",
       "      <th>white_bread</th>\n",
       "      <th>white_wine</th>\n",
       "      <th>whole_grain_wheat_flour</th>\n",
       "      <th>wine</th>\n",
       "      <th>wood</th>\n",
       "      <th>yam</th>\n",
       "      <th>yeast</th>\n",
       "      <th>yogurt</th>\n",
       "      <th>zucchini</th>\n",
       "    </tr>\n",
       "  </thead>\n",
       "  <tbody>\n",
       "    <tr>\n",
       "      <th>65</th>\n",
       "      <td>indian</td>\n",
       "      <td>0</td>\n",
       "      <td>0</td>\n",
       "      <td>0</td>\n",
       "      <td>0</td>\n",
       "      <td>0</td>\n",
       "      <td>0</td>\n",
       "      <td>0</td>\n",
       "      <td>0</td>\n",
       "      <td>0</td>\n",
       "      <td>...</td>\n",
       "      <td>0</td>\n",
       "      <td>0</td>\n",
       "      <td>0</td>\n",
       "      <td>0</td>\n",
       "      <td>0</td>\n",
       "      <td>0</td>\n",
       "      <td>0</td>\n",
       "      <td>0</td>\n",
       "      <td>0</td>\n",
       "      <td>0</td>\n",
       "    </tr>\n",
       "    <tr>\n",
       "      <th>66</th>\n",
       "      <td>indian</td>\n",
       "      <td>1</td>\n",
       "      <td>0</td>\n",
       "      <td>0</td>\n",
       "      <td>0</td>\n",
       "      <td>0</td>\n",
       "      <td>0</td>\n",
       "      <td>0</td>\n",
       "      <td>0</td>\n",
       "      <td>0</td>\n",
       "      <td>...</td>\n",
       "      <td>0</td>\n",
       "      <td>0</td>\n",
       "      <td>0</td>\n",
       "      <td>0</td>\n",
       "      <td>0</td>\n",
       "      <td>0</td>\n",
       "      <td>0</td>\n",
       "      <td>0</td>\n",
       "      <td>0</td>\n",
       "      <td>0</td>\n",
       "    </tr>\n",
       "    <tr>\n",
       "      <th>67</th>\n",
       "      <td>indian</td>\n",
       "      <td>0</td>\n",
       "      <td>0</td>\n",
       "      <td>0</td>\n",
       "      <td>0</td>\n",
       "      <td>0</td>\n",
       "      <td>0</td>\n",
       "      <td>0</td>\n",
       "      <td>0</td>\n",
       "      <td>0</td>\n",
       "      <td>...</td>\n",
       "      <td>0</td>\n",
       "      <td>0</td>\n",
       "      <td>0</td>\n",
       "      <td>0</td>\n",
       "      <td>0</td>\n",
       "      <td>0</td>\n",
       "      <td>0</td>\n",
       "      <td>0</td>\n",
       "      <td>0</td>\n",
       "      <td>0</td>\n",
       "    </tr>\n",
       "    <tr>\n",
       "      <th>68</th>\n",
       "      <td>indian</td>\n",
       "      <td>0</td>\n",
       "      <td>0</td>\n",
       "      <td>0</td>\n",
       "      <td>0</td>\n",
       "      <td>0</td>\n",
       "      <td>0</td>\n",
       "      <td>0</td>\n",
       "      <td>0</td>\n",
       "      <td>0</td>\n",
       "      <td>...</td>\n",
       "      <td>0</td>\n",
       "      <td>0</td>\n",
       "      <td>0</td>\n",
       "      <td>0</td>\n",
       "      <td>0</td>\n",
       "      <td>0</td>\n",
       "      <td>0</td>\n",
       "      <td>0</td>\n",
       "      <td>0</td>\n",
       "      <td>0</td>\n",
       "    </tr>\n",
       "    <tr>\n",
       "      <th>69</th>\n",
       "      <td>indian</td>\n",
       "      <td>0</td>\n",
       "      <td>0</td>\n",
       "      <td>0</td>\n",
       "      <td>0</td>\n",
       "      <td>0</td>\n",
       "      <td>0</td>\n",
       "      <td>0</td>\n",
       "      <td>0</td>\n",
       "      <td>0</td>\n",
       "      <td>...</td>\n",
       "      <td>0</td>\n",
       "      <td>0</td>\n",
       "      <td>0</td>\n",
       "      <td>0</td>\n",
       "      <td>0</td>\n",
       "      <td>0</td>\n",
       "      <td>0</td>\n",
       "      <td>0</td>\n",
       "      <td>1</td>\n",
       "      <td>0</td>\n",
       "    </tr>\n",
       "  </tbody>\n",
       "</table>\n",
       "<p>5 rows × 384 columns</p>\n",
       "</div>"
      ],
      "text/plain": [
       "   country  almond  angelica  anise  anise_seed  apple  apple_brandy  apricot  \\\n",
       "65  indian       0         0      0           0      0             0        0   \n",
       "66  indian       1         0      0           0      0             0        0   \n",
       "67  indian       0         0      0           0      0             0        0   \n",
       "68  indian       0         0      0           0      0             0        0   \n",
       "69  indian       0         0      0           0      0             0        0   \n",
       "\n",
       "    armagnac  artemisia    ...     whiskey  white_bread  white_wine  \\\n",
       "65         0          0    ...           0            0           0   \n",
       "66         0          0    ...           0            0           0   \n",
       "67         0          0    ...           0            0           0   \n",
       "68         0          0    ...           0            0           0   \n",
       "69         0          0    ...           0            0           0   \n",
       "\n",
       "    whole_grain_wheat_flour  wine  wood  yam  yeast  yogurt  zucchini  \n",
       "65                        0     0     0    0      0       0         0  \n",
       "66                        0     0     0    0      0       0         0  \n",
       "67                        0     0     0    0      0       0         0  \n",
       "68                        0     0     0    0      0       0         0  \n",
       "69                        0     0     0    0      0       1         0  \n",
       "\n",
       "[5 rows x 384 columns]"
      ]
     },
     "execution_count": 39,
     "metadata": {},
     "output_type": "execute_result"
    }
   ],
   "source": [
    "bamboo.head()"
   ]
  },
  {
   "cell_type": "markdown",
   "metadata": {},
   "source": [
    "#### 每一个烹饪法（国家）都有多少种食谱?"
   ]
  },
  {
   "cell_type": "code",
   "execution_count": 40,
   "metadata": {
    "collapsed": false
   },
   "outputs": [
    {
     "data": {
      "text/plain": [
       "korean      799\n",
       "indian      598\n",
       "chinese     442\n",
       "japanese    320\n",
       "thai        289\n",
       "Name: country, dtype: int64"
      ]
     },
     "execution_count": 40,
     "metadata": {},
     "output_type": "execute_result"
    }
   ],
   "source": [
    "bamboo['country'].value_counts()"
   ]
  },
  {
   "cell_type": "markdown",
   "metadata": {},
   "source": [
    "#### 接下来，让我们从原始数据集(`bamboo`)中创建训练集和测试集"
   ]
  },
  {
   "cell_type": "code",
   "execution_count": 41,
   "metadata": {
    "collapsed": false
   },
   "outputs": [],
   "source": [
    "import random\n",
    "random.seed(99)\n",
    "\n",
    "testdf = pd.DataFrame()\n",
    "traindf = pd.DataFrame()\n",
    "\n",
    "msk = np.random.rand(len(bamboo)) < 0.7\n",
    "Traindf = bamboo[msk]\n",
    "Testdf = bamboo[~msk]"
   ]
  },
  {
   "cell_type": "markdown",
   "metadata": {},
   "source": [
    "#### 确认每个烹饪法的食谱数量:"
   ]
  },
  {
   "cell_type": "code",
   "execution_count": 42,
   "metadata": {
    "collapsed": false
   },
   "outputs": [
    {
     "data": {
      "text/plain": [
       "korean      799\n",
       "indian      598\n",
       "chinese     442\n",
       "japanese    320\n",
       "thai        289\n",
       "Name: country, dtype: int64"
      ]
     },
     "execution_count": 42,
     "metadata": {},
     "output_type": "execute_result"
    }
   ],
   "source": [
    "#Original dataset\n",
    "bamboo['country'].value_counts()"
   ]
  },
  {
   "cell_type": "code",
   "execution_count": 43,
   "metadata": {
    "collapsed": false
   },
   "outputs": [
    {
     "data": {
      "text/plain": [
       "korean      562\n",
       "indian      425\n",
       "chinese     304\n",
       "japanese    218\n",
       "thai        195\n",
       "Name: country, dtype: int64"
      ]
     },
     "execution_count": 43,
     "metadata": {},
     "output_type": "execute_result"
    }
   ],
   "source": [
    "#Training dataset \n",
    "Traindf['country'].value_counts()"
   ]
  },
  {
   "cell_type": "code",
   "execution_count": 44,
   "metadata": {
    "collapsed": false
   },
   "outputs": [
    {
     "data": {
      "text/plain": [
       "korean      237\n",
       "indian      173\n",
       "chinese     138\n",
       "japanese    102\n",
       "thai         94\n",
       "Name: country, dtype: int64"
      ]
     },
     "execution_count": 44,
     "metadata": {},
     "output_type": "execute_result"
    }
   ],
   "source": [
    "#Testing dataset \n",
    "Testdf['country'].value_counts()"
   ]
  },
  {
   "cell_type": "markdown",
   "metadata": {},
   "source": [
    "#### 从训练和测试数据中选择特征和分类"
   ]
  },
  {
   "cell_type": "code",
   "execution_count": 45,
   "metadata": {
    "collapsed": false
   },
   "outputs": [
    {
     "data": {
      "text/plain": [
       "66         indian\n",
       "67         indian\n",
       "68         indian\n",
       "69         indian\n",
       "71         indian\n",
       "72         indian\n",
       "73         indian\n",
       "75         indian\n",
       "76         indian\n",
       "77         indian\n",
       "78         indian\n",
       "80         indian\n",
       "82         indian\n",
       "85         indian\n",
       "87         indian\n",
       "90         indian\n",
       "91         indian\n",
       "92         indian\n",
       "94         indian\n",
       "97         indian\n",
       "99         indian\n",
       "100        indian\n",
       "101        indian\n",
       "102        indian\n",
       "103        indian\n",
       "104        indian\n",
       "106        indian\n",
       "107        indian\n",
       "108        indian\n",
       "110        indian\n",
       "           ...   \n",
       "57648    japanese\n",
       "57649    japanese\n",
       "57650    japanese\n",
       "57653    japanese\n",
       "57655    japanese\n",
       "57658    japanese\n",
       "57660    japanese\n",
       "57662    japanese\n",
       "57663    japanese\n",
       "57665    japanese\n",
       "57666    japanese\n",
       "57667    japanese\n",
       "57668    japanese\n",
       "57669    japanese\n",
       "57670    japanese\n",
       "57672    japanese\n",
       "57673    japanese\n",
       "57676    japanese\n",
       "57677    japanese\n",
       "57678    japanese\n",
       "57679    japanese\n",
       "57680    japanese\n",
       "57683    japanese\n",
       "57684    japanese\n",
       "57685    japanese\n",
       "57686    japanese\n",
       "57687    japanese\n",
       "57688    japanese\n",
       "57689    japanese\n",
       "57690    japanese\n",
       "Name: country, dtype: object"
      ]
     },
     "execution_count": 45,
     "metadata": {},
     "output_type": "execute_result"
    }
   ],
   "source": [
    "y_train=Traindf['country']\n",
    "X_train=Traindf.ix[:,1:]\n",
    "\n",
    "y_test=Testdf['country']\n",
    "X_test=Testdf.ix[:,1:]\n",
    "\n",
    "y_train"
   ]
  },
  {
   "cell_type": "markdown",
   "metadata": {},
   "source": [
    "#### 创建分类树并对分类树进行训练"
   ]
  },
  {
   "cell_type": "code",
   "execution_count": 46,
   "metadata": {
    "collapsed": false
   },
   "outputs": [
    {
     "data": {
      "text/plain": [
       "DecisionTreeClassifier(class_weight=None, criterion='gini', max_depth=5,\n",
       "            max_features=None, max_leaf_nodes=None,\n",
       "            min_impurity_split=1e-07, min_samples_leaf=100,\n",
       "            min_samples_split=20, min_weight_fraction_leaf=0.0,\n",
       "            presort=False, random_state=None, splitter='best')"
      ]
     },
     "execution_count": 46,
     "metadata": {},
     "output_type": "execute_result"
    }
   ],
   "source": [
    "bamboo_tree = tree.DecisionTreeClassifier(max_depth=5,min_samples_split=20,min_samples_leaf=100,)\n",
    "bamboo_tree.fit(X_train, y_train)"
   ]
  },
  {
   "cell_type": "markdown",
   "metadata": {},
   "source": [
    "### 用变量bamboo_tree在数据集bamboo_test上预测烹饪方法:"
   ]
  },
  {
   "cell_type": "code",
   "execution_count": 47,
   "metadata": {
    "collapsed": true
   },
   "outputs": [],
   "source": [
    "y_pred=bamboo_tree.predict(X_test)"
   ]
  },
  {
   "cell_type": "code",
   "execution_count": 48,
   "metadata": {
    "collapsed": false
   },
   "outputs": [
    {
     "data": {
      "text/plain": [
       "0.5376344086021505"
      ]
     },
     "execution_count": 48,
     "metadata": {},
     "output_type": "execute_result"
    }
   ],
   "source": [
    "accuracy_score(y_test, y_pred)"
   ]
  },
  {
   "cell_type": "markdown",
   "metadata": {},
   "source": [
    "### 创建一个混淆矩阵\n",
    "- 将模型预测的结果和实际的烹饪标签进行比较"
   ]
  },
  {
   "cell_type": "code",
   "execution_count": 49,
   "metadata": {
    "collapsed": false
   },
   "outputs": [],
   "source": [
    "import matplotlib.ticker as ticker\n",
    "\n",
    "def plot_confusion_matrix(cm, title='Confusion matrix', cmap=plt.cm.Blues, labels=None):\n",
    "    fig = plt.figure()\n",
    "    ax = fig.add_subplot(111)\n",
    "    # I also added cmap=cmap here, to make use of the \n",
    "    # colormap you specify in the function call\n",
    "    cax = ax.matshow(cm,cmap=cmap)\n",
    "    plt.title(title)\n",
    "    fig.colorbar(cax)\n",
    "    if labels:\n",
    "        ax.set_xticklabels([''] + labels)\n",
    "        ax.set_yticklabels([''] + labels)\n",
    "\n",
    "    ax.xaxis.set_major_locator(ticker.MultipleLocator(1))\n",
    "    ax.yaxis.set_major_locator(ticker.MultipleLocator(1))\n",
    "    \n",
    "    plt.xlabel('Predicted')\n",
    "    plt.ylabel('True')"
   ]
  },
  {
   "cell_type": "code",
   "execution_count": 50,
   "metadata": {
    "collapsed": false
   },
   "outputs": [
    {
     "data": {
      "image/png": "[encoded data removed]",
      "text/plain": [
       "<matplotlib.figure.Figure at 0x11bf59978>"
      ]
     },
     "metadata": {},
     "output_type": "display_data"
    }
   ],
   "source": [
    "labels = ['chinese','indian','japanese','korean','thai']\n",
    "cm = confusion_matrix( y_test,y_pred)\n",
    "plot_confusion_matrix(cm, labels=labels)\n"
   ]
  },
  {
   "cell_type": "code",
   "execution_count": null,
   "metadata": {
    "collapsed": false
   },
   "outputs": [],
   "source": [
    "cm"
   ]
  },
  {
   "cell_type": "markdown",
   "metadata": {},
   "source": [
    "#### 表格解释:\n",
    "- 每一行是实际菜谱的烹饪分类\n",
    "- 从左上角到右下角的对角线显示了正确的预测\n",
    "- 每个值都代表了国家X的食谱被正确地标记为国家X\n",
    "- 例:148(60+3+65+11+9)个中国菜谱中有60个预测是正确的，预测结果为“中国”，另外30%的错误预测成了韩国，6.75预测成了日本。\n",
    "#### 讨论:\n",
    "- 哪些烹饪可能是错误分类的，哪些是正确分类的?\n",
    "- 哪些烹饪方式容易被误认成其他烹饪方式?"
   ]
  },
  {
   "cell_type": "markdown",
   "metadata": {},
   "source": [
    "<br>\n",
    "<hr><a id=\"ref5\"></a>"
   ]
  },
  {
   "cell_type": "markdown",
   "metadata": {},
   "source": [
    "### 食谱之外"
   ]
  },
  {
   "cell_type": "markdown",
   "metadata": {},
   "source": [
    "#### 现实生活中应用决策树的例子\n",
    "- 客户流失\n",
    "- 信用卡诈骗\n",
    "- 癌症预测\n",
    "\n",
    "#### 现实生活中运用聚类的例子\n",
    "- 顾客区分\n",
    "- 推荐引擎"
   ]
  },
  {
   "cell_type": "markdown",
   "metadata": {
    "collapsed": true
   },
   "source": [
    "<hr>"
   ]
  },
  {
   "cell_type": "markdown",
   "metadata": {},
   "source": [
    "<hr>\n",
    "**引用**  \n",
    "食谱数据集来自: \n",
    "- [Ahn, Yong-Yeol, et al. \"Flavor network and the principles of food pairing.\" Scientific reports 1 (2011).](http://yongyeol.com/papers/ahn-flavornet-2011.pdf)\n",
    "- 关于食材的数据集也可以在这里找到:\n",
    "  - **`recipes.csv`** (64.2 MB):  http://bit.ly/recipesdata"
   ]
  }
 ],
 "metadata": {
  "anaconda-cloud": {},
  "kernelspec": {
   "display_name": "Python 3",
   "language": "python",
   "name": "python3"
  },
  "language_info": {
   "codemirror_mode": {
    "name": "ipython",
    "version": 3
   },
   "file_extension": ".py",
   "mimetype": "text/x-python",
   "name": "python",
   "nbconvert_exporter": "python",
   "pygments_lexer": "ipython3",
   "version": "3.6.0"
  }
 },
 "nbformat": 4,
 "nbformat_minor": 0
}
